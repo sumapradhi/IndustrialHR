{
 "cells": [
  {
   "cell_type": "code",
   "execution_count": 3,
   "id": "3063c661",
   "metadata": {},
   "outputs": [],
   "source": [
    "import numpy as np\n",
    "import pandas as pd\n",
    "from sklearn import model_selection, preprocessing, linear_model, naive_bayes, metrics, svm\n",
    "from sklearn.feature_extraction.text import TfidfVectorizer, CountVectorizer\n",
    "from sklearn import decomposition, ensemble\n",
    "from sklearn.linear_model import LogisticRegression\n",
    "import pandas, xgboost, numpy, textblob, string\n",
    "from keras.preprocessing import text, sequence\n",
    "from keras import layers, models, optimizers\n",
    "from keras.preprocessing.text import Tokenizer\n",
    "from keras.models import Sequential, Model\n",
    "from keras.layers import Activation, Dense, Dropout\n",
    "from sklearn.preprocessing import LabelBinarizer\n",
    "from xgboost import XGBClassifier\n",
    "from sklearn.model_selection import train_test_split\n",
    "from sklearn.metrics import confusion_matrix, precision_score, recall_score, f1_score\n",
    "# Replace the deprecated function with the recommended one\n",
    "import tensorflow as tf\n",
    "\n",
    "# Old function\n",
    "# from sklearn.pipeline import Pipeline\n",
    "from sklearn.feature_extraction.text import CountVectorizer\n",
    "from sklearn.svm import LinearSVC\n",
    "from sklearn.feature_extraction.text import TfidfTransformer\n",
    "from sklearn.multiclass import OneVsRestClassifier\n",
    "import time\n",
    "import os\n",
    "\n",
    "import matplotlib.pyplot as plt \n",
    "import seaborn as sns\n"
   ]
  },
  {
   "cell_type": "code",
   "execution_count": 66,
   "id": "c957de5b",
   "metadata": {},
   "outputs": [
    {
     "name": "stdout",
     "output_type": "stream",
     "text": [
      "['ARUNACHAL_PRADESH-2011.csv', 'ASSAM-2011.csv', 'BIHAR-2011.csv', 'DELHI-2011.csv', 'df_final.csv', 'GOA-2011.csv', 'GUJARAT-2011.csv', 'HIMACHAL_PRADESH-2011.csv', 'JHARKHAND-2011.csv', 'KARNATAKA-2011.csv', 'KERALA-2011.csv', 'MAHARASHTRA-2011.csv', 'MANIPUR-2011.csv', 'merged_df_filtered.csv', 'merged_file.csv', 'MIZORAM-2011.csv', 'NAGALAND-2011.csv', 'ODISHA-2011.csv', 'PUDUCHERRY-2011.csv', 'RAJASTHAN-2011.csv', 'SIKKIM-2011.csv', 'TAMIL_NADU-2011.csv', 'TRIPURA-2011.csv', 'UTTARAKHAND-2011.csv', 'UTTAR_PRADESH-2011.csv', 'WEST_BENGAL-2011.csv']\n"
     ]
    },
    {
     "name": "stderr",
     "output_type": "stream",
     "text": [
      "[nltk_data] Downloading package stopwords to\n",
      "[nltk_data]     C:\\Users\\sumat\\AppData\\Roaming\\nltk_data...\n",
      "[nltk_data]   Unzipping corpora\\stopwords.zip.\n"
     ]
    }
   ],
   "source": [
    "import string\n",
    "import nltk\n",
    "nltk.download('stopwords')\n",
    "nltk.download('wordnet')\n",
    "from nltk.corpus import stopwords\n",
    "from nltk.classify import SklearnClassifier\n",
    "from wordcloud import WordCloud,STOPWORDS\n",
    "import warnings \n",
    "warnings.filterwarnings(\"ignore\", category=DeprecationWarning)\n",
    "print(os.listdir(r\"C:\\Users\\sumat\\OneDrive\\Documents\\IND_HR\"))"
   ]
  },
  {
   "cell_type": "markdown",
   "id": "7c230d0e",
   "metadata": {},
   "source": [
    "Table of Contents: Dataset Preparation: The first step is the Dataset Preparation step which includes the process of loading a dataset and performing basic pre-processing. The dataset is then splitted into train and validation sets. Feature Engineering: The next step is the Feature Engineering in which the raw dataset is transformed into flat features which can be used in a machine learning model. This step also includes the process of creating new features from the existing data. Model Training: The final step is the Model Building step in which a machine learning model is trained on a labelled dataset. Improve Performance of Text Classifier: In this article, we will also look at the different ways to improve the performance of text classifiers."
   ]
  },
  {
   "cell_type": "markdown",
   "id": "0e7a809a",
   "metadata": {},
   "source": [
    "# Loading the Training Data"
   ]
  },
  {
   "cell_type": "code",
   "execution_count": 114,
   "id": "bf9c1f68",
   "metadata": {},
   "outputs": [
    {
     "data": {
      "text/html": [
       "<div>\n",
       "<style scoped>\n",
       "    .dataframe tbody tr th:only-of-type {\n",
       "        vertical-align: middle;\n",
       "    }\n",
       "\n",
       "    .dataframe tbody tr th {\n",
       "        vertical-align: top;\n",
       "    }\n",
       "\n",
       "    .dataframe thead th {\n",
       "        text-align: right;\n",
       "    }\n",
       "</style>\n",
       "<table border=\"1\" class=\"dataframe\">\n",
       "  <thead>\n",
       "    <tr style=\"text-align: right;\">\n",
       "      <th></th>\n",
       "      <th>states</th>\n",
       "      <th>districts</th>\n",
       "      <th>division</th>\n",
       "      <th>group</th>\n",
       "      <th>class</th>\n",
       "      <th>nic_name</th>\n",
       "      <th>main_workers_rural_males</th>\n",
       "      <th>main_workers_rural_females</th>\n",
       "      <th>main_workers_urban_males</th>\n",
       "      <th>main_workers_urban_females</th>\n",
       "      <th>marginal_workers_rural_males</th>\n",
       "      <th>marginal_workers_rural_females</th>\n",
       "      <th>marginal_workers_urban_males</th>\n",
       "      <th>marginal_workers_urban_females</th>\n",
       "      <th>category</th>\n",
       "    </tr>\n",
       "  </thead>\n",
       "  <tbody>\n",
       "    <tr>\n",
       "      <th>0</th>\n",
       "      <td>ARUNACHAL PRADESH</td>\n",
       "      <td>District - Tawang</td>\n",
       "      <td>`01</td>\n",
       "      <td>`000</td>\n",
       "      <td>`0000</td>\n",
       "      <td>Crop and animal production, hunting and relate...</td>\n",
       "      <td>300</td>\n",
       "      <td>84</td>\n",
       "      <td>4</td>\n",
       "      <td>5</td>\n",
       "      <td>46</td>\n",
       "      <td>62</td>\n",
       "      <td>2</td>\n",
       "      <td>0</td>\n",
       "      <td>Crop and animal production, hunting and relate...</td>\n",
       "    </tr>\n",
       "    <tr>\n",
       "      <th>1</th>\n",
       "      <td>ARUNACHAL PRADESH</td>\n",
       "      <td>District - Tawang</td>\n",
       "      <td>`01</td>\n",
       "      <td>`011</td>\n",
       "      <td>`0000</td>\n",
       "      <td>Growing of non-perennial crops</td>\n",
       "      <td>16</td>\n",
       "      <td>8</td>\n",
       "      <td>0</td>\n",
       "      <td>1</td>\n",
       "      <td>14</td>\n",
       "      <td>16</td>\n",
       "      <td>2</td>\n",
       "      <td>0</td>\n",
       "      <td>Crop and animal production, hunting and relate...</td>\n",
       "    </tr>\n",
       "  </tbody>\n",
       "</table>\n",
       "</div>"
      ],
      "text/plain": [
       "              states          districts division group  class  \\\n",
       "0  ARUNACHAL PRADESH  District - Tawang      `01  `000  `0000   \n",
       "1  ARUNACHAL PRADESH  District - Tawang      `01  `011  `0000   \n",
       "\n",
       "                                            nic_name  \\\n",
       "0  Crop and animal production, hunting and relate...   \n",
       "1                     Growing of non-perennial crops   \n",
       "\n",
       "   main_workers_rural_males  main_workers_rural_females  \\\n",
       "0                       300                          84   \n",
       "1                        16                           8   \n",
       "\n",
       "   main_workers_urban_males  main_workers_urban_females  \\\n",
       "0                         4                           5   \n",
       "1                         0                           1   \n",
       "\n",
       "   marginal_workers_rural_males  marginal_workers_rural_females  \\\n",
       "0                            46                              62   \n",
       "1                            14                              16   \n",
       "\n",
       "   marginal_workers_urban_males  marginal_workers_urban_females  \\\n",
       "0                             2                               0   \n",
       "1                             2                               0   \n",
       "\n",
       "                                            category  \n",
       "0  Crop and animal production, hunting and relate...  \n",
       "1  Crop and animal production, hunting and relate...  "
      ]
     },
     "execution_count": 114,
     "metadata": {},
     "output_type": "execute_result"
    }
   ],
   "source": [
    "train = pd.read_csv(r\"C:\\Users\\sumat\\OneDrive\\Documents\\IND_HR\\df_final.csv\")\n",
    "train.head(2)"
   ]
  },
  {
   "cell_type": "code",
   "execution_count": 135,
   "id": "8215445a",
   "metadata": {},
   "outputs": [],
   "source": [
    "#Identifying the first Tag for all rows\n",
    "first_tag = []\n",
    "for str in train['nic_name']:\n",
    "    first_tag.append(str.split(';')[0])"
   ]
  },
  {
   "cell_type": "code",
   "execution_count": 136,
   "id": "f83e53f4",
   "metadata": {},
   "outputs": [
    {
     "data": {
      "text/plain": [
       "176609"
      ]
     },
     "execution_count": 136,
     "metadata": {},
     "output_type": "execute_result"
    }
   ],
   "source": [
    "#Number of Records in First_Tag\n",
    "len(first_tag)"
   ]
  },
  {
   "cell_type": "code",
   "execution_count": 137,
   "id": "b61880ca",
   "metadata": {},
   "outputs": [
    {
     "data": {
      "text/html": [
       "<div>\n",
       "<style scoped>\n",
       "    .dataframe tbody tr th:only-of-type {\n",
       "        vertical-align: middle;\n",
       "    }\n",
       "\n",
       "    .dataframe tbody tr th {\n",
       "        vertical-align: top;\n",
       "    }\n",
       "\n",
       "    .dataframe thead th {\n",
       "        text-align: right;\n",
       "    }\n",
       "</style>\n",
       "<table border=\"1\" class=\"dataframe\">\n",
       "  <thead>\n",
       "    <tr style=\"text-align: right;\">\n",
       "      <th></th>\n",
       "      <th>states</th>\n",
       "      <th>districts</th>\n",
       "      <th>division</th>\n",
       "      <th>group</th>\n",
       "      <th>class</th>\n",
       "      <th>nic_name</th>\n",
       "      <th>main_workers_rural_males</th>\n",
       "      <th>main_workers_rural_females</th>\n",
       "      <th>main_workers_urban_males</th>\n",
       "      <th>main_workers_urban_females</th>\n",
       "      <th>marginal_workers_rural_males</th>\n",
       "      <th>marginal_workers_rural_females</th>\n",
       "      <th>marginal_workers_urban_males</th>\n",
       "      <th>marginal_workers_urban_females</th>\n",
       "      <th>category</th>\n",
       "      <th>First_Tag</th>\n",
       "    </tr>\n",
       "  </thead>\n",
       "  <tbody>\n",
       "    <tr>\n",
       "      <th>0</th>\n",
       "      <td>ARUNACHAL PRADESH</td>\n",
       "      <td>District - Tawang</td>\n",
       "      <td>`01</td>\n",
       "      <td>`000</td>\n",
       "      <td>`0000</td>\n",
       "      <td>Crop and animal production, hunting and relate...</td>\n",
       "      <td>300</td>\n",
       "      <td>84</td>\n",
       "      <td>4</td>\n",
       "      <td>5</td>\n",
       "      <td>46</td>\n",
       "      <td>62</td>\n",
       "      <td>2</td>\n",
       "      <td>0</td>\n",
       "      <td>Crop and animal production, hunting and relate...</td>\n",
       "      <td>Crop and animal production, hunting and relate...</td>\n",
       "    </tr>\n",
       "    <tr>\n",
       "      <th>1</th>\n",
       "      <td>ARUNACHAL PRADESH</td>\n",
       "      <td>District - Tawang</td>\n",
       "      <td>`01</td>\n",
       "      <td>`011</td>\n",
       "      <td>`0000</td>\n",
       "      <td>Growing of non-perennial crops</td>\n",
       "      <td>16</td>\n",
       "      <td>8</td>\n",
       "      <td>0</td>\n",
       "      <td>1</td>\n",
       "      <td>14</td>\n",
       "      <td>16</td>\n",
       "      <td>2</td>\n",
       "      <td>0</td>\n",
       "      <td>Crop and animal production, hunting and relate...</td>\n",
       "      <td>Growing of non-perennial crops</td>\n",
       "    </tr>\n",
       "  </tbody>\n",
       "</table>\n",
       "</div>"
      ],
      "text/plain": [
       "              states          districts division group  class  \\\n",
       "0  ARUNACHAL PRADESH  District - Tawang      `01  `000  `0000   \n",
       "1  ARUNACHAL PRADESH  District - Tawang      `01  `011  `0000   \n",
       "\n",
       "                                            nic_name  \\\n",
       "0  Crop and animal production, hunting and relate...   \n",
       "1                     Growing of non-perennial crops   \n",
       "\n",
       "   main_workers_rural_males  main_workers_rural_females  \\\n",
       "0                       300                          84   \n",
       "1                        16                           8   \n",
       "\n",
       "   main_workers_urban_males  main_workers_urban_females  \\\n",
       "0                         4                           5   \n",
       "1                         0                           1   \n",
       "\n",
       "   marginal_workers_rural_males  marginal_workers_rural_females  \\\n",
       "0                            46                              62   \n",
       "1                            14                              16   \n",
       "\n",
       "   marginal_workers_urban_males  marginal_workers_urban_females  \\\n",
       "0                             2                               0   \n",
       "1                             2                               0   \n",
       "\n",
       "                                            category  \\\n",
       "0  Crop and animal production, hunting and relate...   \n",
       "1  Crop and animal production, hunting and relate...   \n",
       "\n",
       "                                           First_Tag  \n",
       "0  Crop and animal production, hunting and relate...  \n",
       "1                     Growing of non-perennial crops  "
      ]
     },
     "execution_count": 137,
     "metadata": {},
     "output_type": "execute_result"
    }
   ],
   "source": [
    "#Adding a new feature into the training dataset\n",
    "train['First_Tag'] = first_tag\n",
    "train.head(2)"
   ]
  },
  {
   "cell_type": "markdown",
   "id": "fcfa7c84",
   "metadata": {},
   "source": [
    "# Unique Value Count for each feature"
   ]
  },
  {
   "cell_type": "code",
   "execution_count": 138,
   "id": "d8ebda26",
   "metadata": {},
   "outputs": [
    {
     "data": {
      "text/plain": [
       "array(['ARUNACHAL PRADESH', 'ASSAM', 'Bihar', 'NCT OF DELHI', 'GOA',\n",
       "       'Gujarat', 'HIMACHAL PRADESH', 'JHARKHAND', 'KARNATAKA', 'KERALA',\n",
       "       'MAHARASHTRA', 'MANIPUR', 'NAGALAND', 'ODISHA', 'PUDUCHERRY',\n",
       "       'RAJASTHAN', 'SIKKIM', 'TAMIL NADU', 'TRIPURA', 'UTTARAKHAND',\n",
       "       'UTTAR PRADESH', 'WEST BENGAL'], dtype=object)"
      ]
     },
     "execution_count": 138,
     "metadata": {},
     "output_type": "execute_result"
    }
   ],
   "source": [
    "#Unique Values for Geographic Locations\n",
    "train['states'].unique()"
   ]
  },
  {
   "cell_type": "code",
   "execution_count": 139,
   "id": "f789f661",
   "metadata": {},
   "outputs": [
    {
     "data": {
      "text/plain": [
       "array(['District - Tawang', 'District - West Kameng',\n",
       "       'District - East Kameng', 'District - Papum Pare',\n",
       "       'District - Upper Subansiri', 'District - West Siang',\n",
       "       'District - East Siang', 'District - Upper Siang',\n",
       "       'District - Changlang', 'District - Tirap',\n",
       "       'District - Lower Subansiri', 'District - Kurung Kumey',\n",
       "       'District - Dibang Valley', 'District - Lower Dibang Valley',\n",
       "       'District - Lohit', 'District - Anjaw', 'District - Kokrajhar',\n",
       "       'District - Dhubri', 'District - Goalpara', 'District - Barpeta',\n",
       "       'District - Morigaon', 'District - Nagaon', 'District - Sonitpur',\n",
       "       'District - Lakhimpur', 'District - Dhemaji',\n",
       "       'District - Tinsukia', 'District - Dibrugarh',\n",
       "       'District - Sivasagar', 'District - Jorhat', 'District - Golaghat',\n",
       "       'District - Karbi Anglong', 'District - Dima Hasao',\n",
       "       'District - Cachar', 'District - Karimganj',\n",
       "       'District - Hailakandi', 'District - Bongaigaon',\n",
       "       'District - Chirang', 'District - Kamrup',\n",
       "       'District - Kamrup Metropolitan', 'District - Nalbari',\n",
       "       'District - Baksa', 'District - Darrang', 'District - Udalguri',\n",
       "       'District - Pashchim Champaran', 'District - Purba Champaran',\n",
       "       'District - Sheohar', 'District - Sitamarhi',\n",
       "       'District - Madhubani', 'District - Supaul', 'District - Araria',\n",
       "       'District - Kishanganj', 'District - Purnia', 'District - Katihar',\n",
       "       'District - Madhepura', 'District - Saharsa',\n",
       "       'District - Darbhanga', 'District - Muzaffarpur',\n",
       "       'District - Gopalganj', 'District - Siwan', 'District - Saran',\n",
       "       'District - Vaishali', 'District - Samastipur',\n",
       "       'District - Begusarai', 'District - Khagaria',\n",
       "       'District - Bhagalpur', 'District - Banka', 'District - Munger',\n",
       "       'District - Lakhisarai', 'District - Sheikhpura',\n",
       "       'District - Nalanda', 'District - Patna', 'District - Bhojpur',\n",
       "       'District - Buxar', 'District - Kaimur (Bhabua)',\n",
       "       'District - Rohtas', 'District - Aurangabad', 'District - Gaya',\n",
       "       'District - Nawada', 'District - Jamui', 'District - Jehanabad',\n",
       "       'District - Arwal', 'District - North West', 'District - North',\n",
       "       'District - North East', 'District - East', 'District - New Delhi',\n",
       "       'District - Central', 'District - West', 'District - South West',\n",
       "       'District - South', 'District - North Goa', 'District - South Goa',\n",
       "       'District - Kachchh', 'District - Banas Kantha',\n",
       "       'District - Patan', 'District - Mahesana',\n",
       "       'District - Sabar Kantha', 'District - Gandhinagar',\n",
       "       'District - Ahmadabad', 'District - Surendranagar',\n",
       "       'District - Rajkot', 'District - Jamnagar', 'District - Porbandar',\n",
       "       'District - Junagadh', 'District - Amreli', 'District - Bhavnagar',\n",
       "       'District - Anand', 'District - Kheda', 'District - Panch Mahals',\n",
       "       'District - Dohad', 'District - Vadodara', 'District - Narmada',\n",
       "       'District - Bharuch', 'District - The Dangs', 'District - Navsari',\n",
       "       'District - Valsad', 'District - Surat', 'District - Tapi',\n",
       "       'District - Chamba', 'District - Kangra',\n",
       "       'District - Lahul & Spiti', 'District - Kullu', 'District - Mandi',\n",
       "       'District - Hamirpur', 'District - Una', 'District - Bilaspur',\n",
       "       'District - Solan', 'District - Sirmaur', 'District - Shimla',\n",
       "       'District - Kinnaur', 'District - Garhwa', 'District - Chatra',\n",
       "       'District - Kodarma', 'District - Giridih', 'District - Deoghar',\n",
       "       'District - Godda', 'District - Sahibganj', 'District - Pakur',\n",
       "       'District - Dhanbad', 'District - Bokaro', 'District - Lohardaga',\n",
       "       'District - Purbi Singhbhum', 'District - Palamu',\n",
       "       'District - Latehar', 'District - Hazaribagh',\n",
       "       'District - Ramgarh', 'District - Dumka', 'District - Jamtara',\n",
       "       'District - Ranchi', 'District - Khunti', 'District - Gumla',\n",
       "       'District - Simdega', 'District - Pashchimi',\n",
       "       'District - Saraikela', 'District - Belgaum',\n",
       "       'District - Bagalkot', 'District - Bijapur', 'District - Bidar',\n",
       "       'District - Raichur', 'District - Koppal', 'District - Gadag',\n",
       "       'District - Dharwad', 'District - Uttara Kannada',\n",
       "       'District - Haveri', 'District - Bellary',\n",
       "       'District - Chitradurga', 'District - Davanagere',\n",
       "       'District - Shimoga', 'District - Udupi', 'District - Chikmagalur',\n",
       "       'District - Tumkur', 'District - Bangalore', 'District - Mandya',\n",
       "       'District - Hassan', 'District - Dakshina Kannada',\n",
       "       'District - Kodagu', 'District - Mysore',\n",
       "       'District - Chamarajanagar', 'District - Gulbarga',\n",
       "       'District - Yadgir', 'District - Kolar',\n",
       "       'District - Chikkaballapura', 'District - Bangalore Rural',\n",
       "       'District - Ramanagara', 'District - Kasaragod',\n",
       "       'District - Kannur', 'District - Wayanad', 'District - Kozhikode',\n",
       "       'District - Malappuram', 'District - Palakkad',\n",
       "       'District - Thrissur', 'District - Ernakulam', 'District - Idukki',\n",
       "       'District - Kottayam', 'District - Alappuzha',\n",
       "       'District - Pathanamthitta', 'District - Kollam',\n",
       "       'District - Thiruvananthapuram', 'District - Nandurbar',\n",
       "       'District - Dhule', 'District - Jalgaon', 'District - Buldana',\n",
       "       'District - Akola', 'District - Washim', 'District - Amravati',\n",
       "       'District - Wardha', 'District - Nagpur', 'District - Bhandara',\n",
       "       'District - Gondiya', 'District - Gadchiroli',\n",
       "       'District - Chandrapur', 'District - Yavatmal',\n",
       "       'District - Nanded', 'District - Hingoli', 'District - Parbhani',\n",
       "       'District - Jalna', 'District - Nashik', 'District - Thane',\n",
       "       'District - Mumbai Suburban', 'District - Mumbai',\n",
       "       'District - Raigarh', 'District - Pune', 'District - Ahmadnagar',\n",
       "       'District - Bid', 'District - Latur', 'District - Osmanabad',\n",
       "       'District - Solapur', 'District - Satara', 'District - Ratnagiri',\n",
       "       'District - Sindhudurg', 'District - Kolhapur',\n",
       "       'District - Sangli', 'District - Senapati',\n",
       "       'District - Tamenglong', 'District - Churachandpur',\n",
       "       'District - Bishnupur', 'District - Thoubal',\n",
       "       'District - Imphal West', 'District - Imphal East',\n",
       "       'District - Ukhrul', 'District - Chandel', 'District - Mon',\n",
       "       'District - Mokokchung', 'District - Zunheboto',\n",
       "       'District - Wokha', 'District - Dimapur', 'District - Phek',\n",
       "       'District - Tuensang', 'District - Longleng', 'District - Kiphire',\n",
       "       'District - Kohima', 'District - Peren', 'District - Bargarh',\n",
       "       'District - Jharsuguda', 'District - Sambalpur',\n",
       "       'District - Debagarh', 'District - Sundargarh',\n",
       "       'District - Kendujhar', 'District - Mayurbhanj',\n",
       "       'District - Baleshwar', 'District - Bhadrak',\n",
       "       'District - Kendrapara', 'District - Jagatsinghapur',\n",
       "       'District - Cuttack', 'District - Jajapur', 'District - Dhenkanal',\n",
       "       'District - Anugul', 'District - Nayagarh', 'District - Khordha',\n",
       "       'District - Puri', 'District - Ganjam', 'District - Gajapati',\n",
       "       'District - Kandhamal', 'District - Baudh',\n",
       "       'District - Subarnapur', 'District - Balangir',\n",
       "       'District - Nuapada', 'District - Kalahandi',\n",
       "       'District - Rayagada', 'District - Nabarangapur',\n",
       "       'District - Koraput', 'District - Malkangiri', 'District - Yanam',\n",
       "       'District - Puducherry', 'District - Mahe', 'District - Karaikal',\n",
       "       'District - Ganganagar', 'District - Hanumangarh',\n",
       "       'District - Bikaner', 'District - Churu', 'District - Jhunjhunun',\n",
       "       'District - Alwar', 'District - Bharatpur', 'District - Dhaulpur',\n",
       "       'District - Karauli', 'District - Sawai Madhopur',\n",
       "       'District - Dausa', 'District - Jaipur', 'District - Sikar',\n",
       "       'District - Nagaur', 'District - Jodhpur', 'District - Jaisalmer',\n",
       "       'District - Barmer', 'District - Jalor', 'District - Sirohi',\n",
       "       'District - Pali', 'District - Ajmer', 'District - Tonk',\n",
       "       'District - Bundi', 'District - Bhilwara', 'District - Rajsamand',\n",
       "       'District - Dungarpur', 'District - Banswara',\n",
       "       'District - Chittaurgarh', 'District - Kota', 'District - Baran',\n",
       "       'District - Jhalawar', 'District - Udaipur',\n",
       "       'District - Pratapgarh', 'District - North  District',\n",
       "       'District - West District', 'District - South District',\n",
       "       'District - East District', 'District - Thiruvallur',\n",
       "       'District - Chennai', 'District - Kancheepuram',\n",
       "       'District - Vellore', 'District - Tiruvannamalai',\n",
       "       'District - Viluppuram', 'District - Salem', 'District - Namakkal',\n",
       "       'District - Erode', 'District - The Nilgiris',\n",
       "       'District - Dindigul', 'District - Karur',\n",
       "       'District - Tiruchirappalli', 'District - Perambalur',\n",
       "       'District - Ariyalur', 'District - Cuddalore',\n",
       "       'District - Nagapattinam', 'District - Thiruvarur',\n",
       "       'District - Thanjavur', 'District - Pudukkottai',\n",
       "       'District - Sivaganga', 'District - Madurai', 'District - Theni',\n",
       "       'District - Virudhunagar', 'District - Ramanathapuram',\n",
       "       'District - Thoothukkudi', 'District - Tirunelveli',\n",
       "       'District - Kanniyakumari', 'District - Dharmapuri',\n",
       "       'District - Krishnagiri', 'District - Coimbatore',\n",
       "       'District - Tiruppur', 'District - West Tripura',\n",
       "       'District - South Tripura', 'District - Dhalai',\n",
       "       'District - North Tripura', 'District - Uttarkashi',\n",
       "       'District - Chamoli', 'District - Rudraprayag',\n",
       "       'District - Tehri Garhwal', 'District - Dehradun',\n",
       "       'District - Garhwal', 'District - Pithoragarh',\n",
       "       'District - Bageshwar', 'District - Almora',\n",
       "       'District - Champawat', 'District - Nainital',\n",
       "       'District - Udham Singh Nagar', 'District - Hardwar',\n",
       "       'District - Saharanpur', 'District - Muzaffarnagar',\n",
       "       'District - Bijnor', 'District - Moradabad', 'District - Rampur',\n",
       "       'District - Jyotiba Phule Nagar', 'District - Meerut',\n",
       "       'District - Baghpat', 'District - Ghaziabad',\n",
       "       'District - Gautam Buddha Nagar', 'District - Bulandshahr',\n",
       "       'District - Aligarh', 'District - Mahamaya Nagar',\n",
       "       'District - Mathura', 'District - Agra', 'District - Firozabad',\n",
       "       'District - Mainpuri', 'District - Budaun', 'District - Bareilly',\n",
       "       'District - Pilibhit', 'District - Shahjahanpur',\n",
       "       'District - Kheri', 'District - Sitapur', 'District - Hardoi',\n",
       "       'District - Unnao', 'District - Lucknow', 'District - Rae Bareli',\n",
       "       'District - Farrukhabad', 'District - Kannauj',\n",
       "       'District - Etawah', 'District - Auraiya',\n",
       "       'District - Kanpur Dehat', 'District - Kanpur Nagar',\n",
       "       'District - Jalaun', 'District - Jhansi', 'District - Lalitpur',\n",
       "       'District - Mahoba', 'District - Banda', 'District - Chitrakoot',\n",
       "       'District - Fatehpur', 'District - Kaushambi',\n",
       "       'District - Allahabad', 'District - Bara Banki',\n",
       "       'District - Faizabad', 'District - Ambedkar Nagar',\n",
       "       'District - Sultanpur', 'District - Bahraich',\n",
       "       'District - Shrawasti', 'District - Balrampur', 'District - Gonda',\n",
       "       'District - Siddharthnagar', 'District - Basti',\n",
       "       'District - Sant Kabir Nagar', 'District - Mahrajganj',\n",
       "       'District - Gorakhpur', 'District - Kushinagar',\n",
       "       'District - Deoria', 'District - Azamgarh', 'District - Mau',\n",
       "       'District - Ballia', 'District - Jaunpur', 'District - Ghazipur',\n",
       "       'District - Chandauli', 'District - Varanasi',\n",
       "       'District - Sant Ravidas Nagar (Bhadohi)', 'District - Mirzapur',\n",
       "       'District - Sonbhadra', 'District - Etah',\n",
       "       'District - Kanshiram Nagar', 'District - Darjiling',\n",
       "       'District - Jalpaiguri', 'District - Koch Bihar',\n",
       "       'District - Uttar Dinajpur', 'District - Dakshin Dinajpur',\n",
       "       'District - Maldah', 'District - Murshidabad',\n",
       "       'District - Birbhum', 'District - Barddhaman', 'District - Nadia',\n",
       "       'District - North Twenty Four Parganas', 'District - Hugli',\n",
       "       'District - Bankura', 'District - Puruliya', 'District - Haora',\n",
       "       'District - Kolkata', 'District - South Twenty Four Parganas',\n",
       "       'District - Paschim Medinipur', 'District - Purba Medinipur'],\n",
       "      dtype=object)"
      ]
     },
     "execution_count": 139,
     "metadata": {},
     "output_type": "execute_result"
    }
   ],
   "source": [
    "train['districts'].unique()"
   ]
  },
  {
   "cell_type": "code",
   "execution_count": 140,
   "id": "261b33e7",
   "metadata": {},
   "outputs": [
    {
     "data": {
      "text/plain": [
       "array(['`01', '`02', '`03', '`05', '`08', '`09', '`10', '`13', '`14',\n",
       "       '`15', '`16', '`18', '`20', '`23', '`24', '`25', '`31', '`32',\n",
       "       '`33', '`35', '`36', '`41', '`42', '`43', '`45', '`46', '`47',\n",
       "       '`49', '`51', '`52', '`53', '`55', '`56', '`60', '`61', '`62',\n",
       "       '`63', '`64', '`65', '`68', '`69', '`75', '`77', '`79', '`80',\n",
       "       '`81', '`82', '`84', '`85', '`86', '`88', '`90', '`91', '`92',\n",
       "       '`93', '`94', '`95', '`96', '`97', '`99', '`11', '`17', '`22',\n",
       "       '`26', '`28', '`30', '`37', '`38', '`58', '`59', '`66', '`74',\n",
       "       '`87', '`98', '`06', '`19', '`21', '`71', '`72', '`39', '`12',\n",
       "       '`50', '`27', '`07', '`73', '`78', '`70', '`29'], dtype=object)"
      ]
     },
     "execution_count": 140,
     "metadata": {},
     "output_type": "execute_result"
    }
   ],
   "source": [
    "#Unique Values for CompanyType\n",
    "train['division'].unique()"
   ]
  },
  {
   "cell_type": "code",
   "execution_count": 141,
   "id": "b5c156d1",
   "metadata": {},
   "outputs": [
    {
     "data": {
      "text/html": [
       "<div>\n",
       "<style scoped>\n",
       "    .dataframe tbody tr th:only-of-type {\n",
       "        vertical-align: middle;\n",
       "    }\n",
       "\n",
       "    .dataframe tbody tr th {\n",
       "        vertical-align: top;\n",
       "    }\n",
       "\n",
       "    .dataframe thead th {\n",
       "        text-align: right;\n",
       "    }\n",
       "</style>\n",
       "<table border=\"1\" class=\"dataframe\">\n",
       "  <thead>\n",
       "    <tr style=\"text-align: right;\">\n",
       "      <th></th>\n",
       "      <th>states</th>\n",
       "      <th>nic_name</th>\n",
       "      <th>First_Tag</th>\n",
       "    </tr>\n",
       "  </thead>\n",
       "  <tbody>\n",
       "    <tr>\n",
       "      <th>0</th>\n",
       "      <td>ARUNACHAL PRADESH</td>\n",
       "      <td>Crop and animal production, hunting and relate...</td>\n",
       "      <td>Crop and animal production, hunting and relate...</td>\n",
       "    </tr>\n",
       "    <tr>\n",
       "      <th>1</th>\n",
       "      <td>ARUNACHAL PRADESH</td>\n",
       "      <td>Growing of non-perennial crops</td>\n",
       "      <td>Growing of non-perennial crops</td>\n",
       "    </tr>\n",
       "  </tbody>\n",
       "</table>\n",
       "</div>"
      ],
      "text/plain": [
       "              states                                           nic_name  \\\n",
       "0  ARUNACHAL PRADESH  Crop and animal production, hunting and relate...   \n",
       "1  ARUNACHAL PRADESH                     Growing of non-perennial crops   \n",
       "\n",
       "                                           First_Tag  \n",
       "0  Crop and animal production, hunting and relate...  \n",
       "1                     Growing of non-perennial crops  "
      ]
     },
     "execution_count": 141,
     "metadata": {},
     "output_type": "execute_result"
    }
   ],
   "source": [
    "#Abstracting States,NIC Name,Category from train into a new dataset\n",
    "train_ana = train[['states','nic_name','First_Tag']]\n",
    "train_ana.head(2)"
   ]
  },
  {
   "cell_type": "markdown",
   "id": "807f1be3",
   "metadata": {},
   "source": [
    "We will now carry out all the Text Preprocessing steps on the 'nic_name' field converting all letters to lower or upper case converting numbers into words or removing numbers removing punctuations, accent marks and other diacritics removing white spaces expanding abbreviations removing stop words, sparse terms, and particular words text canonicalization"
   ]
  },
  {
   "cell_type": "markdown",
   "id": "4447915d",
   "metadata": {},
   "source": [
    "# Convert text to lowercase"
   ]
  },
  {
   "cell_type": "code",
   "execution_count": 142,
   "id": "3ab0e273",
   "metadata": {},
   "outputs": [
    {
     "name": "stderr",
     "output_type": "stream",
     "text": [
      "C:\\Users\\sumat\\AppData\\Local\\Temp\\ipykernel_10016\\3428481223.py:3: SettingWithCopyWarning: \n",
      "A value is trying to be set on a copy of a slice from a DataFrame.\n",
      "Try using .loc[row_indexer,col_indexer] = value instead\n",
      "\n",
      "See the caveats in the documentation: https://pandas.pydata.org/pandas-docs/stable/user_guide/indexing.html#returning-a-view-versus-a-copy\n",
      "  train_ana['Tidy_Desc'] = train_ana['nic_name'].str.lower()\n"
     ]
    },
    {
     "data": {
      "text/html": [
       "<div>\n",
       "<style scoped>\n",
       "    .dataframe tbody tr th:only-of-type {\n",
       "        vertical-align: middle;\n",
       "    }\n",
       "\n",
       "    .dataframe tbody tr th {\n",
       "        vertical-align: top;\n",
       "    }\n",
       "\n",
       "    .dataframe thead th {\n",
       "        text-align: right;\n",
       "    }\n",
       "</style>\n",
       "<table border=\"1\" class=\"dataframe\">\n",
       "  <thead>\n",
       "    <tr style=\"text-align: right;\">\n",
       "      <th></th>\n",
       "      <th>states</th>\n",
       "      <th>nic_name</th>\n",
       "      <th>First_Tag</th>\n",
       "      <th>Tidy_Desc</th>\n",
       "    </tr>\n",
       "  </thead>\n",
       "  <tbody>\n",
       "    <tr>\n",
       "      <th>0</th>\n",
       "      <td>ARUNACHAL PRADESH</td>\n",
       "      <td>Crop and animal production, hunting and relate...</td>\n",
       "      <td>Crop and animal production, hunting and relate...</td>\n",
       "      <td>crop and animal production, hunting and relate...</td>\n",
       "    </tr>\n",
       "  </tbody>\n",
       "</table>\n",
       "</div>"
      ],
      "text/plain": [
       "              states                                           nic_name  \\\n",
       "0  ARUNACHAL PRADESH  Crop and animal production, hunting and relate...   \n",
       "\n",
       "                                           First_Tag  \\\n",
       "0  Crop and animal production, hunting and relate...   \n",
       "\n",
       "                                           Tidy_Desc  \n",
       "0  crop and animal production, hunting and relate...  "
      ]
     },
     "execution_count": 142,
     "metadata": {},
     "output_type": "execute_result"
    }
   ],
   "source": [
    "import pandas as pd\n",
    "\n",
    "train_ana['Tidy_Desc'] = train_ana['nic_name'].str.lower()\n",
    "\n",
    "train_ana.head(1)\n"
   ]
  },
  {
   "cell_type": "code",
   "execution_count": 143,
   "id": "b8e44ad0",
   "metadata": {},
   "outputs": [],
   "source": [
    "import re\n",
    "#Function to remove any additional special characters, if needed.\n",
    "def remove_pattern(input_txt, pattern):\n",
    "    r = re.findall(pattern, input_txt)\n",
    "    for i in r:\n",
    "        input_txt = re.sub(i, '', input_txt)\n",
    "        \n",
    "    return input_txt"
   ]
  },
  {
   "cell_type": "code",
   "execution_count": 125,
   "id": "26080700",
   "metadata": {},
   "outputs": [
    {
     "name": "stderr",
     "output_type": "stream",
     "text": [
      "C:\\Users\\sumat\\AppData\\Local\\Temp\\ipykernel_10016\\104769970.py:4: SettingWithCopyWarning: \n",
      "A value is trying to be set on a copy of a slice from a DataFrame.\n",
      "Try using .loc[row_indexer,col_indexer] = value instead\n",
      "\n",
      "See the caveats in the documentation: https://pandas.pydata.org/pandas-docs/stable/user_guide/indexing.html#returning-a-view-versus-a-copy\n",
      "  train_ana['Tidy_Desc'] = train_ana['Tidy_Desc'].apply(lambda x: remove_pattern(x, pattern))\n"
     ]
    }
   ],
   "source": [
    "#Facts: Translate function has been changed from Python 2.x to Python 3.x\n",
    "#It now takes only one output\n",
    "pattern = r'\\d'  # Remove all digits from the text\n",
    "train_ana['Tidy_Desc'] = train_ana['Tidy_Desc'].apply(lambda x: remove_pattern(x, pattern))"
   ]
  },
  {
   "cell_type": "code",
   "execution_count": 144,
   "id": "14015381",
   "metadata": {},
   "outputs": [
    {
     "data": {
      "text/html": [
       "<div>\n",
       "<style scoped>\n",
       "    .dataframe tbody tr th:only-of-type {\n",
       "        vertical-align: middle;\n",
       "    }\n",
       "\n",
       "    .dataframe tbody tr th {\n",
       "        vertical-align: top;\n",
       "    }\n",
       "\n",
       "    .dataframe thead th {\n",
       "        text-align: right;\n",
       "    }\n",
       "</style>\n",
       "<table border=\"1\" class=\"dataframe\">\n",
       "  <thead>\n",
       "    <tr style=\"text-align: right;\">\n",
       "      <th></th>\n",
       "      <th>states</th>\n",
       "      <th>nic_name</th>\n",
       "      <th>First_Tag</th>\n",
       "      <th>Tidy_Desc</th>\n",
       "    </tr>\n",
       "  </thead>\n",
       "  <tbody>\n",
       "    <tr>\n",
       "      <th>0</th>\n",
       "      <td>ARUNACHAL PRADESH</td>\n",
       "      <td>Crop and animal production, hunting and relate...</td>\n",
       "      <td>Crop and animal production, hunting and relate...</td>\n",
       "      <td>crop and animal production, hunting and relate...</td>\n",
       "    </tr>\n",
       "  </tbody>\n",
       "</table>\n",
       "</div>"
      ],
      "text/plain": [
       "              states                                           nic_name  \\\n",
       "0  ARUNACHAL PRADESH  Crop and animal production, hunting and relate...   \n",
       "\n",
       "                                           First_Tag  \\\n",
       "0  Crop and animal production, hunting and relate...   \n",
       "\n",
       "                                           Tidy_Desc  \n",
       "0  crop and animal production, hunting and relate...  "
      ]
     },
     "execution_count": 144,
     "metadata": {},
     "output_type": "execute_result"
    }
   ],
   "source": [
    "train_ana.head(1)"
   ]
  },
  {
   "cell_type": "markdown",
   "id": "d4fa7934",
   "metadata": {},
   "source": [
    "# Removing punctuations, accent marks and other diacritics"
   ]
  },
  {
   "cell_type": "code",
   "execution_count": 145,
   "id": "47f238b6",
   "metadata": {},
   "outputs": [
    {
     "name": "stderr",
     "output_type": "stream",
     "text": [
      "C:\\Users\\sumat\\AppData\\Local\\Temp\\ipykernel_10016\\3890938482.py:2: SettingWithCopyWarning: \n",
      "A value is trying to be set on a copy of a slice from a DataFrame.\n",
      "Try using .loc[row_indexer,col_indexer] = value instead\n",
      "\n",
      "See the caveats in the documentation: https://pandas.pydata.org/pandas-docs/stable/user_guide/indexing.html#returning-a-view-versus-a-copy\n",
      "  train_ana.Tidy_Desc=train_ana.Tidy_Desc.apply(lambda x: x.translate({ord(c):'' for c in \"[!”#$%&’()*+,-./:;<=>?@[\\]^_`{|}~]\"}))\n"
     ]
    }
   ],
   "source": [
    "#[!”#$%&’()*+,-./:;<=>?@[\\]^_`{|}~]\n",
    "train_ana.Tidy_Desc=train_ana.Tidy_Desc.apply(lambda x: x.translate({ord(c):'' for c in \"[!”#$%&’()*+,-./:;<=>?@[\\]^_`{|}~]\"}))"
   ]
  },
  {
   "cell_type": "code",
   "execution_count": 146,
   "id": "a0ece903",
   "metadata": {},
   "outputs": [
    {
     "data": {
      "text/html": [
       "<div>\n",
       "<style scoped>\n",
       "    .dataframe tbody tr th:only-of-type {\n",
       "        vertical-align: middle;\n",
       "    }\n",
       "\n",
       "    .dataframe tbody tr th {\n",
       "        vertical-align: top;\n",
       "    }\n",
       "\n",
       "    .dataframe thead th {\n",
       "        text-align: right;\n",
       "    }\n",
       "</style>\n",
       "<table border=\"1\" class=\"dataframe\">\n",
       "  <thead>\n",
       "    <tr style=\"text-align: right;\">\n",
       "      <th></th>\n",
       "      <th>states</th>\n",
       "      <th>nic_name</th>\n",
       "      <th>First_Tag</th>\n",
       "      <th>Tidy_Desc</th>\n",
       "    </tr>\n",
       "  </thead>\n",
       "  <tbody>\n",
       "    <tr>\n",
       "      <th>0</th>\n",
       "      <td>ARUNACHAL PRADESH</td>\n",
       "      <td>Crop and animal production, hunting and relate...</td>\n",
       "      <td>Crop and animal production, hunting and relate...</td>\n",
       "      <td>crop and animal production hunting and related...</td>\n",
       "    </tr>\n",
       "  </tbody>\n",
       "</table>\n",
       "</div>"
      ],
      "text/plain": [
       "              states                                           nic_name  \\\n",
       "0  ARUNACHAL PRADESH  Crop and animal production, hunting and relate...   \n",
       "\n",
       "                                           First_Tag  \\\n",
       "0  Crop and animal production, hunting and relate...   \n",
       "\n",
       "                                           Tidy_Desc  \n",
       "0  crop and animal production hunting and related...  "
      ]
     },
     "execution_count": 146,
     "metadata": {},
     "output_type": "execute_result"
    }
   ],
   "source": [
    "train_ana.head(1)"
   ]
  },
  {
   "cell_type": "markdown",
   "id": "5a97eb5d",
   "metadata": {},
   "source": [
    "# Remove whitespaces"
   ]
  },
  {
   "cell_type": "code",
   "execution_count": 147,
   "id": "a94306a9",
   "metadata": {},
   "outputs": [
    {
     "name": "stderr",
     "output_type": "stream",
     "text": [
      "C:\\Users\\sumat\\AppData\\Local\\Temp\\ipykernel_10016\\2728746437.py:1: SettingWithCopyWarning: \n",
      "A value is trying to be set on a copy of a slice from a DataFrame.\n",
      "Try using .loc[row_indexer,col_indexer] = value instead\n",
      "\n",
      "See the caveats in the documentation: https://pandas.pydata.org/pandas-docs/stable/user_guide/indexing.html#returning-a-view-versus-a-copy\n",
      "  train_ana.Tidy_Desc=train_ana.Tidy_Desc.apply(lambda x: x.strip())\n"
     ]
    }
   ],
   "source": [
    "train_ana.Tidy_Desc=train_ana.Tidy_Desc.apply(lambda x: x.strip())"
   ]
  },
  {
   "cell_type": "code",
   "execution_count": 148,
   "id": "9086b514",
   "metadata": {},
   "outputs": [
    {
     "data": {
      "text/html": [
       "<div>\n",
       "<style scoped>\n",
       "    .dataframe tbody tr th:only-of-type {\n",
       "        vertical-align: middle;\n",
       "    }\n",
       "\n",
       "    .dataframe tbody tr th {\n",
       "        vertical-align: top;\n",
       "    }\n",
       "\n",
       "    .dataframe thead th {\n",
       "        text-align: right;\n",
       "    }\n",
       "</style>\n",
       "<table border=\"1\" class=\"dataframe\">\n",
       "  <thead>\n",
       "    <tr style=\"text-align: right;\">\n",
       "      <th></th>\n",
       "      <th>states</th>\n",
       "      <th>nic_name</th>\n",
       "      <th>First_Tag</th>\n",
       "      <th>Tidy_Desc</th>\n",
       "    </tr>\n",
       "  </thead>\n",
       "  <tbody>\n",
       "    <tr>\n",
       "      <th>0</th>\n",
       "      <td>ARUNACHAL PRADESH</td>\n",
       "      <td>Crop and animal production, hunting and relate...</td>\n",
       "      <td>Crop and animal production, hunting and relate...</td>\n",
       "      <td>crop and animal production hunting and related...</td>\n",
       "    </tr>\n",
       "  </tbody>\n",
       "</table>\n",
       "</div>"
      ],
      "text/plain": [
       "              states                                           nic_name  \\\n",
       "0  ARUNACHAL PRADESH  Crop and animal production, hunting and relate...   \n",
       "\n",
       "                                           First_Tag  \\\n",
       "0  Crop and animal production, hunting and relate...   \n",
       "\n",
       "                                           Tidy_Desc  \n",
       "0  crop and animal production hunting and related...  "
      ]
     },
     "execution_count": 148,
     "metadata": {},
     "output_type": "execute_result"
    }
   ],
   "source": [
    "train_ana.head(1)"
   ]
  },
  {
   "cell_type": "markdown",
   "id": "c7d32b05",
   "metadata": {},
   "source": [
    "Tokenization\n",
    "Tokenization is the process of splitting the given text into smaller pieces called tokens."
   ]
  },
  {
   "cell_type": "markdown",
   "id": "f89eaf4e",
   "metadata": {},
   "source": [
    "# StopWord Removal + Tokenization"
   ]
  },
  {
   "cell_type": "code",
   "execution_count": 149,
   "id": "09ccde84",
   "metadata": {},
   "outputs": [],
   "source": [
    "stop_words = stopwords.words('english')\n",
    "from nltk.tokenize import word_tokenize"
   ]
  },
  {
   "cell_type": "code",
   "execution_count": 150,
   "id": "58b6d25c",
   "metadata": {},
   "outputs": [],
   "source": [
    "# function to remove stopwords\n",
    "def remove_stopwords(sen):\n",
    "    sen_new = \" \".join([i for i in sen if i not in stop_words])\n",
    "    return sen_new"
   ]
  },
  {
   "cell_type": "code",
   "execution_count": 151,
   "id": "abc8e977",
   "metadata": {},
   "outputs": [],
   "source": [
    "clean_sentences  = [remove_stopwords(r.split()) for r in train_ana['Tidy_Desc']]"
   ]
  },
  {
   "cell_type": "code",
   "execution_count": 152,
   "id": "06a946f2",
   "metadata": {},
   "outputs": [
    {
     "name": "stderr",
     "output_type": "stream",
     "text": [
      "C:\\Users\\sumat\\AppData\\Local\\Temp\\ipykernel_10016\\2101395835.py:1: SettingWithCopyWarning: \n",
      "A value is trying to be set on a copy of a slice from a DataFrame.\n",
      "Try using .loc[row_indexer,col_indexer] = value instead\n",
      "\n",
      "See the caveats in the documentation: https://pandas.pydata.org/pandas-docs/stable/user_guide/indexing.html#returning-a-view-versus-a-copy\n",
      "  train_ana['Tidy_Desc'] = clean_sentences\n"
     ]
    }
   ],
   "source": [
    "train_ana['Tidy_Desc'] = clean_sentences"
   ]
  },
  {
   "cell_type": "code",
   "execution_count": 153,
   "id": "fcd13c0e",
   "metadata": {},
   "outputs": [
    {
     "data": {
      "text/html": [
       "<div>\n",
       "<style scoped>\n",
       "    .dataframe tbody tr th:only-of-type {\n",
       "        vertical-align: middle;\n",
       "    }\n",
       "\n",
       "    .dataframe tbody tr th {\n",
       "        vertical-align: top;\n",
       "    }\n",
       "\n",
       "    .dataframe thead th {\n",
       "        text-align: right;\n",
       "    }\n",
       "</style>\n",
       "<table border=\"1\" class=\"dataframe\">\n",
       "  <thead>\n",
       "    <tr style=\"text-align: right;\">\n",
       "      <th></th>\n",
       "      <th>states</th>\n",
       "      <th>nic_name</th>\n",
       "      <th>First_Tag</th>\n",
       "      <th>Tidy_Desc</th>\n",
       "    </tr>\n",
       "  </thead>\n",
       "  <tbody>\n",
       "    <tr>\n",
       "      <th>0</th>\n",
       "      <td>ARUNACHAL PRADESH</td>\n",
       "      <td>Crop and animal production, hunting and relate...</td>\n",
       "      <td>Crop and animal production, hunting and relate...</td>\n",
       "      <td>crop animal production hunting related service...</td>\n",
       "    </tr>\n",
       "    <tr>\n",
       "      <th>1</th>\n",
       "      <td>ARUNACHAL PRADESH</td>\n",
       "      <td>Growing of non-perennial crops</td>\n",
       "      <td>Growing of non-perennial crops</td>\n",
       "      <td>growing nonperennial crops</td>\n",
       "    </tr>\n",
       "    <tr>\n",
       "      <th>2</th>\n",
       "      <td>ARUNACHAL PRADESH</td>\n",
       "      <td>Growing of rice</td>\n",
       "      <td>Growing of rice</td>\n",
       "      <td>growing rice</td>\n",
       "    </tr>\n",
       "  </tbody>\n",
       "</table>\n",
       "</div>"
      ],
      "text/plain": [
       "              states                                           nic_name  \\\n",
       "0  ARUNACHAL PRADESH  Crop and animal production, hunting and relate...   \n",
       "1  ARUNACHAL PRADESH                     Growing of non-perennial crops   \n",
       "2  ARUNACHAL PRADESH                                    Growing of rice   \n",
       "\n",
       "                                           First_Tag  \\\n",
       "0  Crop and animal production, hunting and relate...   \n",
       "1                     Growing of non-perennial crops   \n",
       "2                                    Growing of rice   \n",
       "\n",
       "                                           Tidy_Desc  \n",
       "0  crop animal production hunting related service...  \n",
       "1                         growing nonperennial crops  \n",
       "2                                       growing rice  "
      ]
     },
     "execution_count": 153,
     "metadata": {},
     "output_type": "execute_result"
    }
   ],
   "source": [
    "train_ana.head(3)"
   ]
  },
  {
   "cell_type": "code",
   "execution_count": 72,
   "id": "5dc52497",
   "metadata": {},
   "outputs": [],
   "source": [
    "#Tokenization\n",
    "tokens = train_ana['Tidy_Desc'].apply(lambda x: x.split())\n",
    "#Now that we have the removed StopWords and tokenized the nic_name\n",
    "#We will now subject the tokenized version to removing stop words, sparse terms, and particular words\n",
    "#In some cases, it’s necessary to remove sparse terms or particular words from texts. \n",
    "#This task can be done using stop words removal techniques considering that any group of words can be chosen as the stop words."
   ]
  },
  {
   "cell_type": "code",
   "execution_count": 154,
   "id": "c8daa738",
   "metadata": {},
   "outputs": [],
   "source": [
    "#Stemming\n",
    "from nltk.stem import PorterStemmer\n",
    "stemmer= PorterStemmer()\n",
    "Stemmed_tokens = tokens.apply(lambda x: [stemmer.stem(i) for i in x]) # stemming"
   ]
  },
  {
   "cell_type": "markdown",
   "id": "143fbe1a",
   "metadata": {},
   "source": [
    "Now let’s stitch these tokens back together."
   ]
  },
  {
   "cell_type": "code",
   "execution_count": 155,
   "id": "76852e71",
   "metadata": {},
   "outputs": [
    {
     "name": "stderr",
     "output_type": "stream",
     "text": [
      "C:\\Users\\sumat\\AppData\\Local\\Temp\\ipykernel_10016\\3784480293.py:4: SettingWithCopyWarning: \n",
      "A value is trying to be set on a copy of a slice from a DataFrame.\n",
      "Try using .loc[row_indexer,col_indexer] = value instead\n",
      "\n",
      "See the caveats in the documentation: https://pandas.pydata.org/pandas-docs/stable/user_guide/indexing.html#returning-a-view-versus-a-copy\n",
      "  train_ana['Tidy_Desc_Stemmed'] = Stemmed_tokens\n"
     ]
    }
   ],
   "source": [
    "for i in range(len(Stemmed_tokens)):\n",
    "    Stemmed_tokens[i] = ' '.join(Stemmed_tokens[i])\n",
    "\n",
    "train_ana['Tidy_Desc_Stemmed'] = Stemmed_tokens"
   ]
  },
  {
   "cell_type": "code",
   "execution_count": 156,
   "id": "78fe6c63",
   "metadata": {},
   "outputs": [
    {
     "data": {
      "text/html": [
       "<div>\n",
       "<style scoped>\n",
       "    .dataframe tbody tr th:only-of-type {\n",
       "        vertical-align: middle;\n",
       "    }\n",
       "\n",
       "    .dataframe tbody tr th {\n",
       "        vertical-align: top;\n",
       "    }\n",
       "\n",
       "    .dataframe thead th {\n",
       "        text-align: right;\n",
       "    }\n",
       "</style>\n",
       "<table border=\"1\" class=\"dataframe\">\n",
       "  <thead>\n",
       "    <tr style=\"text-align: right;\">\n",
       "      <th></th>\n",
       "      <th>states</th>\n",
       "      <th>nic_name</th>\n",
       "      <th>First_Tag</th>\n",
       "      <th>Tidy_Desc</th>\n",
       "      <th>Tidy_Desc_Stemmed</th>\n",
       "    </tr>\n",
       "  </thead>\n",
       "  <tbody>\n",
       "    <tr>\n",
       "      <th>0</th>\n",
       "      <td>ARUNACHAL PRADESH</td>\n",
       "      <td>Crop and animal production, hunting and relate...</td>\n",
       "      <td>Crop and animal production, hunting and relate...</td>\n",
       "      <td>crop animal production hunting related service...</td>\n",
       "      <td>crop anim product hunt relat servic activ</td>\n",
       "    </tr>\n",
       "    <tr>\n",
       "      <th>1</th>\n",
       "      <td>ARUNACHAL PRADESH</td>\n",
       "      <td>Growing of non-perennial crops</td>\n",
       "      <td>Growing of non-perennial crops</td>\n",
       "      <td>growing nonperennial crops</td>\n",
       "      <td>grow nonperenni crop</td>\n",
       "    </tr>\n",
       "    <tr>\n",
       "      <th>2</th>\n",
       "      <td>ARUNACHAL PRADESH</td>\n",
       "      <td>Growing of rice</td>\n",
       "      <td>Growing of rice</td>\n",
       "      <td>growing rice</td>\n",
       "      <td>grow rice</td>\n",
       "    </tr>\n",
       "  </tbody>\n",
       "</table>\n",
       "</div>"
      ],
      "text/plain": [
       "              states                                           nic_name  \\\n",
       "0  ARUNACHAL PRADESH  Crop and animal production, hunting and relate...   \n",
       "1  ARUNACHAL PRADESH                     Growing of non-perennial crops   \n",
       "2  ARUNACHAL PRADESH                                    Growing of rice   \n",
       "\n",
       "                                           First_Tag  \\\n",
       "0  Crop and animal production, hunting and relate...   \n",
       "1                     Growing of non-perennial crops   \n",
       "2                                    Growing of rice   \n",
       "\n",
       "                                           Tidy_Desc  \\\n",
       "0  crop animal production hunting related service...   \n",
       "1                         growing nonperennial crops   \n",
       "2                                       growing rice   \n",
       "\n",
       "                           Tidy_Desc_Stemmed  \n",
       "0  crop anim product hunt relat servic activ  \n",
       "1                       grow nonperenni crop  \n",
       "2                                  grow rice  "
      ]
     },
     "execution_count": 156,
     "metadata": {},
     "output_type": "execute_result"
    }
   ],
   "source": [
    "train_ana.head(3)"
   ]
  },
  {
   "cell_type": "code",
   "execution_count": 157,
   "id": "bb9608ad",
   "metadata": {},
   "outputs": [
    {
     "name": "stderr",
     "output_type": "stream",
     "text": [
      "[nltk_data] Downloading package wordnet to\n",
      "[nltk_data]     C:\\Users\\sumat\\AppData\\Roaming\\nltk_data...\n",
      "[nltk_data]   Package wordnet is already up-to-date!\n"
     ]
    },
    {
     "data": {
      "text/plain": [
       "True"
      ]
     },
     "execution_count": 157,
     "metadata": {},
     "output_type": "execute_result"
    }
   ],
   "source": [
    "import nltk\n",
    "nltk.download('wordnet')"
   ]
  },
  {
   "cell_type": "code",
   "execution_count": 158,
   "id": "b58e8184",
   "metadata": {},
   "outputs": [],
   "source": [
    "#Lemmatization\n",
    "from nltk.stem import WordNetLemmatizer\n",
    "lemmatizer=WordNetLemmatizer()\n",
    "Lemmatized_tokens = tokens.apply(lambda x: [lemmatizer.lemmatize(i) for i in x]) # Lemmatizing"
   ]
  },
  {
   "cell_type": "code",
   "execution_count": 159,
   "id": "33b97fef",
   "metadata": {},
   "outputs": [
    {
     "name": "stderr",
     "output_type": "stream",
     "text": [
      "C:\\Users\\sumat\\AppData\\Local\\Temp\\ipykernel_10016\\1327823349.py:4: SettingWithCopyWarning: \n",
      "A value is trying to be set on a copy of a slice from a DataFrame.\n",
      "Try using .loc[row_indexer,col_indexer] = value instead\n",
      "\n",
      "See the caveats in the documentation: https://pandas.pydata.org/pandas-docs/stable/user_guide/indexing.html#returning-a-view-versus-a-copy\n",
      "  train_ana['Tidy_Desc_Lemma'] = Lemmatized_tokens\n"
     ]
    }
   ],
   "source": [
    "for i in range(len(Lemmatized_tokens)):\n",
    "    Lemmatized_tokens[i] = ' '.join(Lemmatized_tokens[i])\n",
    "\n",
    "train_ana['Tidy_Desc_Lemma'] = Lemmatized_tokens"
   ]
  },
  {
   "cell_type": "code",
   "execution_count": 160,
   "id": "a9511304",
   "metadata": {},
   "outputs": [
    {
     "data": {
      "text/html": [
       "<div>\n",
       "<style scoped>\n",
       "    .dataframe tbody tr th:only-of-type {\n",
       "        vertical-align: middle;\n",
       "    }\n",
       "\n",
       "    .dataframe tbody tr th {\n",
       "        vertical-align: top;\n",
       "    }\n",
       "\n",
       "    .dataframe thead th {\n",
       "        text-align: right;\n",
       "    }\n",
       "</style>\n",
       "<table border=\"1\" class=\"dataframe\">\n",
       "  <thead>\n",
       "    <tr style=\"text-align: right;\">\n",
       "      <th></th>\n",
       "      <th>states</th>\n",
       "      <th>nic_name</th>\n",
       "      <th>First_Tag</th>\n",
       "      <th>Tidy_Desc</th>\n",
       "      <th>Tidy_Desc_Stemmed</th>\n",
       "      <th>Tidy_Desc_Lemma</th>\n",
       "    </tr>\n",
       "  </thead>\n",
       "  <tbody>\n",
       "    <tr>\n",
       "      <th>0</th>\n",
       "      <td>ARUNACHAL PRADESH</td>\n",
       "      <td>Crop and animal production, hunting and relate...</td>\n",
       "      <td>Crop and animal production, hunting and relate...</td>\n",
       "      <td>crop animal production hunting related service...</td>\n",
       "      <td>crop anim product hunt relat servic activ</td>\n",
       "      <td>crop animal production hunting related service...</td>\n",
       "    </tr>\n",
       "    <tr>\n",
       "      <th>1</th>\n",
       "      <td>ARUNACHAL PRADESH</td>\n",
       "      <td>Growing of non-perennial crops</td>\n",
       "      <td>Growing of non-perennial crops</td>\n",
       "      <td>growing nonperennial crops</td>\n",
       "      <td>grow nonperenni crop</td>\n",
       "      <td>growing nonperennial crop</td>\n",
       "    </tr>\n",
       "    <tr>\n",
       "      <th>2</th>\n",
       "      <td>ARUNACHAL PRADESH</td>\n",
       "      <td>Growing of rice</td>\n",
       "      <td>Growing of rice</td>\n",
       "      <td>growing rice</td>\n",
       "      <td>grow rice</td>\n",
       "      <td>growing rice</td>\n",
       "    </tr>\n",
       "  </tbody>\n",
       "</table>\n",
       "</div>"
      ],
      "text/plain": [
       "              states                                           nic_name  \\\n",
       "0  ARUNACHAL PRADESH  Crop and animal production, hunting and relate...   \n",
       "1  ARUNACHAL PRADESH                     Growing of non-perennial crops   \n",
       "2  ARUNACHAL PRADESH                                    Growing of rice   \n",
       "\n",
       "                                           First_Tag  \\\n",
       "0  Crop and animal production, hunting and relate...   \n",
       "1                     Growing of non-perennial crops   \n",
       "2                                    Growing of rice   \n",
       "\n",
       "                                           Tidy_Desc  \\\n",
       "0  crop animal production hunting related service...   \n",
       "1                         growing nonperennial crops   \n",
       "2                                       growing rice   \n",
       "\n",
       "                           Tidy_Desc_Stemmed  \\\n",
       "0  crop anim product hunt relat servic activ   \n",
       "1                       grow nonperenni crop   \n",
       "2                                  grow rice   \n",
       "\n",
       "                                     Tidy_Desc_Lemma  \n",
       "0  crop animal production hunting related service...  \n",
       "1                          growing nonperennial crop  \n",
       "2                                       growing rice  "
      ]
     },
     "execution_count": 160,
     "metadata": {},
     "output_type": "execute_result"
    }
   ],
   "source": [
    "train_ana.head(3)"
   ]
  },
  {
   "cell_type": "code",
   "execution_count": 161,
   "id": "07ac89be",
   "metadata": {},
   "outputs": [
    {
     "data": {
      "text/plain": [
       "Construction of buildings                                      1353\n",
       "Activities of households as employers of domestic personnel    1218\n",
       "Manufacture of furniture                                       1146\n",
       "Water collection, treatment and supply                         1104\n",
       "Veterinary activities                                          1029\n",
       "Name: First_Tag, dtype: int64"
      ]
     },
     "execution_count": 161,
     "metadata": {},
     "output_type": "execute_result"
    }
   ],
   "source": [
    "#Before going for Count Vectorization as Feature\n",
    "#We would like to check the type of Count of Type of Tags\n",
    "\n",
    "train_ana['First_Tag'].value_counts().head(5)"
   ]
  },
  {
   "cell_type": "markdown",
   "id": "c5daabc2",
   "metadata": {},
   "source": [
    "Count Vectors as features"
   ]
  },
  {
   "cell_type": "code",
   "execution_count": 162,
   "id": "ce6d5504",
   "metadata": {},
   "outputs": [
    {
     "data": {
      "text/plain": [
       "['Construction of buildings',\n",
       " 'Activities of households as employers of domestic personnel',\n",
       " 'Manufacture of furniture',\n",
       " 'Water collection, treatment and supply',\n",
       " 'Veterinary activities',\n",
       " 'Incomplete description/ Wrongly Classifed',\n",
       " 'Primary education',\n",
       " 'Blank',\n",
       " 'Manufacture of tobacco products',\n",
       " 'Other human health activities']"
      ]
     },
     "execution_count": 162,
     "metadata": {},
     "output_type": "execute_result"
    }
   ],
   "source": [
    "#set(train_ana['First_Tag'])\n",
    "#Selecting the first 10 labels\n",
    "T10Tag = train_ana['First_Tag'].value_counts().index.tolist()\n",
    "T10Tag = T10Tag[:10]\n",
    "T10Tag"
   ]
  },
  {
   "cell_type": "code",
   "execution_count": 163,
   "id": "2acd555f",
   "metadata": {},
   "outputs": [
    {
     "data": {
      "text/plain": [
       "(10202, 6)"
      ]
     },
     "execution_count": 163,
     "metadata": {},
     "output_type": "execute_result"
    }
   ],
   "source": [
    "train_10 = train_ana[train_ana['First_Tag'].isin(T10Tag)]\n",
    "train_10.shape"
   ]
  },
  {
   "cell_type": "code",
   "execution_count": 164,
   "id": "3f602d8b",
   "metadata": {},
   "outputs": [
    {
     "data": {
      "text/plain": [
       "{'Activities of households as employers of domestic personnel',\n",
       " 'Blank',\n",
       " 'Construction of buildings',\n",
       " 'Incomplete description/ Wrongly Classifed',\n",
       " 'Manufacture of furniture',\n",
       " 'Manufacture of tobacco products',\n",
       " 'Other human health activities',\n",
       " 'Primary education',\n",
       " 'Veterinary activities',\n",
       " 'Water collection, treatment and supply'}"
      ]
     },
     "execution_count": 164,
     "metadata": {},
     "output_type": "execute_result"
    }
   ],
   "source": [
    "set(train_10['First_Tag'])"
   ]
  },
  {
   "cell_type": "code",
   "execution_count": 165,
   "id": "1dc83454",
   "metadata": {},
   "outputs": [
    {
     "data": {
      "text/plain": [
       "Counter({'Manufacture of furniture': 1146,\n",
       "         'Water collection, treatment and supply': 1104,\n",
       "         'Construction of buildings': 1353,\n",
       "         'Veterinary activities': 1029,\n",
       "         'Primary education': 880,\n",
       "         'Other human health activities': 850,\n",
       "         'Activities of households as employers of domestic personnel': 1218,\n",
       "         'Blank': 860,\n",
       "         'Incomplete description/ Wrongly Classifed': 904,\n",
       "         'Manufacture of tobacco products': 858})"
      ]
     },
     "execution_count": 165,
     "metadata": {},
     "output_type": "execute_result"
    }
   ],
   "source": [
    "from collections import Counter\n",
    "Counter(train_10['First_Tag'])"
   ]
  },
  {
   "cell_type": "code",
   "execution_count": 166,
   "id": "d1a7ac88",
   "metadata": {},
   "outputs": [
    {
     "data": {
      "text/plain": [
       "['states',\n",
       " 'nic_name',\n",
       " 'First_Tag',\n",
       " 'Tidy_Desc',\n",
       " 'Tidy_Desc_Stemmed',\n",
       " 'Tidy_Desc_Lemma']"
      ]
     },
     "execution_count": 166,
     "metadata": {},
     "output_type": "execute_result"
    }
   ],
   "source": [
    "train_10.columns.tolist()"
   ]
  },
  {
   "cell_type": "code",
   "execution_count": 167,
   "id": "66350073",
   "metadata": {},
   "outputs": [],
   "source": [
    "train_10_ana = train_10[['Tidy_Desc_Lemma','First_Tag']]"
   ]
  },
  {
   "cell_type": "code",
   "execution_count": 168,
   "id": "61566ac4",
   "metadata": {},
   "outputs": [],
   "source": [
    "#pre-processing\n",
    "import re \n",
    "def clean_str(string):\n",
    "    \"\"\"\n",
    "    Tokenization/string cleaning for dataset\n",
    "    Every dataset is lower cased except\n",
    "    \"\"\"\n",
    "    string = re.sub(r\"\\n\", \"\", string)    \n",
    "    string = re.sub(r\"\\r\", \"\", string) \n",
    "    string = re.sub(r\"[0-9]\", \"digit\", string)\n",
    "    string = re.sub(r\"\\'\", \"\", string)    \n",
    "    string = re.sub(r\"\\\"\", \"\", string)    \n",
    "    return string.strip().lower()"
   ]
  },
  {
   "cell_type": "code",
   "execution_count": 169,
   "id": "854f7c9e",
   "metadata": {},
   "outputs": [],
   "source": [
    "#train test split\n",
    "from sklearn.model_selection import train_test_split\n",
    "X = []\n",
    "for i in range(train_10_ana.shape[0]):\n",
    "    X.append(clean_str(train_10_ana.iloc[i][0]))\n",
    "y = np.array(train_10_ana[\"First_Tag\"])\n",
    "X_train, X_test, y_train, y_test = train_test_split(X, y, test_size=0.3, random_state=5)"
   ]
  },
  {
   "cell_type": "code",
   "execution_count": 170,
   "id": "40c283a3",
   "metadata": {},
   "outputs": [],
   "source": [
    "#feature engineering and model selection\n",
    "from sklearn.svm import LinearSVC\n",
    "from sklearn.linear_model import LogisticRegression\n",
    "from sklearn.ensemble import RandomForestClassifier"
   ]
  },
  {
   "cell_type": "code",
   "execution_count": 172,
   "id": "226e84d4",
   "metadata": {},
   "outputs": [],
   "source": [
    "#pipeline of feature engineering and model\n",
    "model = Pipeline([('vectorizer', CountVectorizer()),\n",
    "    ('tfidf', TfidfTransformer()),\n",
    "    ('clf', OneVsRestClassifier(LinearSVC(class_weight=\"balanced\")))])"
   ]
  },
  {
   "cell_type": "code",
   "execution_count": 95,
   "id": "91f9cfb7",
   "metadata": {},
   "outputs": [],
   "source": [
    "#paramater selection\n",
    "from sklearn.model_selection import GridSearchCV\n",
    "parameters = {'vectorizer__ngram_range': [(1, 1), (1, 2),(2,2)],\n",
    "               'tfidf__use_idf': (True, False)}"
   ]
  },
  {
   "cell_type": "code",
   "execution_count": 96,
   "id": "fcb7f937",
   "metadata": {},
   "outputs": [
    {
     "name": "stderr",
     "output_type": "stream",
     "text": [
      "C:\\Datascience\\Lib\\site-packages\\sklearn\\svm\\_classes.py:32: FutureWarning: The default value of `dual` will change from `True` to `'auto'` in 1.5. Set the value of `dual` explicitly to suppress the warning.\n",
      "  warnings.warn(\n",
      "C:\\Datascience\\Lib\\site-packages\\sklearn\\svm\\_classes.py:32: FutureWarning: The default value of `dual` will change from `True` to `'auto'` in 1.5. Set the value of `dual` explicitly to suppress the warning.\n",
      "  warnings.warn(\n",
      "C:\\Datascience\\Lib\\site-packages\\sklearn\\svm\\_classes.py:32: FutureWarning: The default value of `dual` will change from `True` to `'auto'` in 1.5. Set the value of `dual` explicitly to suppress the warning.\n",
      "  warnings.warn(\n",
      "C:\\Datascience\\Lib\\site-packages\\sklearn\\svm\\_classes.py:32: FutureWarning: The default value of `dual` will change from `True` to `'auto'` in 1.5. Set the value of `dual` explicitly to suppress the warning.\n",
      "  warnings.warn(\n",
      "C:\\Datascience\\Lib\\site-packages\\sklearn\\svm\\_classes.py:32: FutureWarning: The default value of `dual` will change from `True` to `'auto'` in 1.5. Set the value of `dual` explicitly to suppress the warning.\n",
      "  warnings.warn(\n",
      "C:\\Datascience\\Lib\\site-packages\\sklearn\\svm\\_classes.py:32: FutureWarning: The default value of `dual` will change from `True` to `'auto'` in 1.5. Set the value of `dual` explicitly to suppress the warning.\n",
      "  warnings.warn(\n",
      "C:\\Datascience\\Lib\\site-packages\\sklearn\\svm\\_classes.py:32: FutureWarning: The default value of `dual` will change from `True` to `'auto'` in 1.5. Set the value of `dual` explicitly to suppress the warning.\n",
      "  warnings.warn(\n",
      "C:\\Datascience\\Lib\\site-packages\\sklearn\\svm\\_classes.py:32: FutureWarning: The default value of `dual` will change from `True` to `'auto'` in 1.5. Set the value of `dual` explicitly to suppress the warning.\n",
      "  warnings.warn(\n",
      "C:\\Datascience\\Lib\\site-packages\\sklearn\\svm\\_classes.py:32: FutureWarning: The default value of `dual` will change from `True` to `'auto'` in 1.5. Set the value of `dual` explicitly to suppress the warning.\n",
      "  warnings.warn(\n",
      "C:\\Datascience\\Lib\\site-packages\\sklearn\\svm\\_classes.py:32: FutureWarning: The default value of `dual` will change from `True` to `'auto'` in 1.5. Set the value of `dual` explicitly to suppress the warning.\n",
      "  warnings.warn(\n"
     ]
    },
    {
     "name": "stdout",
     "output_type": "stream",
     "text": [
      "1.0\n",
      "{'tfidf__use_idf': True, 'vectorizer__ngram_range': (1, 1)}\n"
     ]
    }
   ],
   "source": [
    "gs_clf_svm = GridSearchCV(model, parameters, n_jobs=-1)\n",
    "gs_clf_svm = gs_clf_svm.fit(X, y)\n",
    "print(gs_clf_svm.best_score_)\n",
    "print(gs_clf_svm.best_params_)"
   ]
  },
  {
   "cell_type": "code",
   "execution_count": 97,
   "id": "09f1280f",
   "metadata": {},
   "outputs": [],
   "source": [
    "#preparing the final pipeline using the selected parameters\n",
    "model = Pipeline([('vectorizer', CountVectorizer(ngram_range=(1,2))),\n",
    "    ('tfidf', TfidfTransformer(use_idf=True)),\n",
    "    ('clf', OneVsRestClassifier(LinearSVC(class_weight=\"balanced\")))])"
   ]
  },
  {
   "cell_type": "code",
   "execution_count": 98,
   "id": "beac5d51",
   "metadata": {},
   "outputs": [
    {
     "name": "stderr",
     "output_type": "stream",
     "text": [
      "C:\\Datascience\\Lib\\site-packages\\sklearn\\svm\\_classes.py:32: FutureWarning: The default value of `dual` will change from `True` to `'auto'` in 1.5. Set the value of `dual` explicitly to suppress the warning.\n",
      "  warnings.warn(\n",
      "C:\\Datascience\\Lib\\site-packages\\sklearn\\svm\\_classes.py:32: FutureWarning: The default value of `dual` will change from `True` to `'auto'` in 1.5. Set the value of `dual` explicitly to suppress the warning.\n",
      "  warnings.warn(\n",
      "C:\\Datascience\\Lib\\site-packages\\sklearn\\svm\\_classes.py:32: FutureWarning: The default value of `dual` will change from `True` to `'auto'` in 1.5. Set the value of `dual` explicitly to suppress the warning.\n",
      "  warnings.warn(\n",
      "C:\\Datascience\\Lib\\site-packages\\sklearn\\svm\\_classes.py:32: FutureWarning: The default value of `dual` will change from `True` to `'auto'` in 1.5. Set the value of `dual` explicitly to suppress the warning.\n",
      "  warnings.warn(\n",
      "C:\\Datascience\\Lib\\site-packages\\sklearn\\svm\\_classes.py:32: FutureWarning: The default value of `dual` will change from `True` to `'auto'` in 1.5. Set the value of `dual` explicitly to suppress the warning.\n",
      "  warnings.warn(\n",
      "C:\\Datascience\\Lib\\site-packages\\sklearn\\svm\\_classes.py:32: FutureWarning: The default value of `dual` will change from `True` to `'auto'` in 1.5. Set the value of `dual` explicitly to suppress the warning.\n",
      "  warnings.warn(\n",
      "C:\\Datascience\\Lib\\site-packages\\sklearn\\svm\\_classes.py:32: FutureWarning: The default value of `dual` will change from `True` to `'auto'` in 1.5. Set the value of `dual` explicitly to suppress the warning.\n",
      "  warnings.warn(\n",
      "C:\\Datascience\\Lib\\site-packages\\sklearn\\svm\\_classes.py:32: FutureWarning: The default value of `dual` will change from `True` to `'auto'` in 1.5. Set the value of `dual` explicitly to suppress the warning.\n",
      "  warnings.warn(\n",
      "C:\\Datascience\\Lib\\site-packages\\sklearn\\svm\\_classes.py:32: FutureWarning: The default value of `dual` will change from `True` to `'auto'` in 1.5. Set the value of `dual` explicitly to suppress the warning.\n",
      "  warnings.warn(\n",
      "C:\\Datascience\\Lib\\site-packages\\sklearn\\svm\\_classes.py:32: FutureWarning: The default value of `dual` will change from `True` to `'auto'` in 1.5. Set the value of `dual` explicitly to suppress the warning.\n",
      "  warnings.warn(\n"
     ]
    },
    {
     "data": {
      "text/html": [
       "<style>#sk-container-id-1 {color: black;}#sk-container-id-1 pre{padding: 0;}#sk-container-id-1 div.sk-toggleable {background-color: white;}#sk-container-id-1 label.sk-toggleable__label {cursor: pointer;display: block;width: 100%;margin-bottom: 0;padding: 0.3em;box-sizing: border-box;text-align: center;}#sk-container-id-1 label.sk-toggleable__label-arrow:before {content: \"▸\";float: left;margin-right: 0.25em;color: #696969;}#sk-container-id-1 label.sk-toggleable__label-arrow:hover:before {color: black;}#sk-container-id-1 div.sk-estimator:hover label.sk-toggleable__label-arrow:before {color: black;}#sk-container-id-1 div.sk-toggleable__content {max-height: 0;max-width: 0;overflow: hidden;text-align: left;background-color: #f0f8ff;}#sk-container-id-1 div.sk-toggleable__content pre {margin: 0.2em;color: black;border-radius: 0.25em;background-color: #f0f8ff;}#sk-container-id-1 input.sk-toggleable__control:checked~div.sk-toggleable__content {max-height: 200px;max-width: 100%;overflow: auto;}#sk-container-id-1 input.sk-toggleable__control:checked~label.sk-toggleable__label-arrow:before {content: \"▾\";}#sk-container-id-1 div.sk-estimator input.sk-toggleable__control:checked~label.sk-toggleable__label {background-color: #d4ebff;}#sk-container-id-1 div.sk-label input.sk-toggleable__control:checked~label.sk-toggleable__label {background-color: #d4ebff;}#sk-container-id-1 input.sk-hidden--visually {border: 0;clip: rect(1px 1px 1px 1px);clip: rect(1px, 1px, 1px, 1px);height: 1px;margin: -1px;overflow: hidden;padding: 0;position: absolute;width: 1px;}#sk-container-id-1 div.sk-estimator {font-family: monospace;background-color: #f0f8ff;border: 1px dotted black;border-radius: 0.25em;box-sizing: border-box;margin-bottom: 0.5em;}#sk-container-id-1 div.sk-estimator:hover {background-color: #d4ebff;}#sk-container-id-1 div.sk-parallel-item::after {content: \"\";width: 100%;border-bottom: 1px solid gray;flex-grow: 1;}#sk-container-id-1 div.sk-label:hover label.sk-toggleable__label {background-color: #d4ebff;}#sk-container-id-1 div.sk-serial::before {content: \"\";position: absolute;border-left: 1px solid gray;box-sizing: border-box;top: 0;bottom: 0;left: 50%;z-index: 0;}#sk-container-id-1 div.sk-serial {display: flex;flex-direction: column;align-items: center;background-color: white;padding-right: 0.2em;padding-left: 0.2em;position: relative;}#sk-container-id-1 div.sk-item {position: relative;z-index: 1;}#sk-container-id-1 div.sk-parallel {display: flex;align-items: stretch;justify-content: center;background-color: white;position: relative;}#sk-container-id-1 div.sk-item::before, #sk-container-id-1 div.sk-parallel-item::before {content: \"\";position: absolute;border-left: 1px solid gray;box-sizing: border-box;top: 0;bottom: 0;left: 50%;z-index: -1;}#sk-container-id-1 div.sk-parallel-item {display: flex;flex-direction: column;z-index: 1;position: relative;background-color: white;}#sk-container-id-1 div.sk-parallel-item:first-child::after {align-self: flex-end;width: 50%;}#sk-container-id-1 div.sk-parallel-item:last-child::after {align-self: flex-start;width: 50%;}#sk-container-id-1 div.sk-parallel-item:only-child::after {width: 0;}#sk-container-id-1 div.sk-dashed-wrapped {border: 1px dashed gray;margin: 0 0.4em 0.5em 0.4em;box-sizing: border-box;padding-bottom: 0.4em;background-color: white;}#sk-container-id-1 div.sk-label label {font-family: monospace;font-weight: bold;display: inline-block;line-height: 1.2em;}#sk-container-id-1 div.sk-label-container {text-align: center;}#sk-container-id-1 div.sk-container {/* jupyter's `normalize.less` sets `[hidden] { display: none; }` but bootstrap.min.css set `[hidden] { display: none !important; }` so we also need the `!important` here to be able to override the default hidden behavior on the sphinx rendered scikit-learn.org. See: https://github.com/scikit-learn/scikit-learn/issues/21755 */display: inline-block !important;position: relative;}#sk-container-id-1 div.sk-text-repr-fallback {display: none;}</style><div id=\"sk-container-id-1\" class=\"sk-top-container\"><div class=\"sk-text-repr-fallback\"><pre>Pipeline(steps=[(&#x27;vectorizer&#x27;, CountVectorizer(ngram_range=(1, 2))),\n",
       "                (&#x27;tfidf&#x27;, TfidfTransformer()),\n",
       "                (&#x27;clf&#x27;,\n",
       "                 OneVsRestClassifier(estimator=LinearSVC(class_weight=&#x27;balanced&#x27;)))])</pre><b>In a Jupyter environment, please rerun this cell to show the HTML representation or trust the notebook. <br />On GitHub, the HTML representation is unable to render, please try loading this page with nbviewer.org.</b></div><div class=\"sk-container\" hidden><div class=\"sk-item sk-dashed-wrapped\"><div class=\"sk-label-container\"><div class=\"sk-label sk-toggleable\"><input class=\"sk-toggleable__control sk-hidden--visually\" id=\"sk-estimator-id-1\" type=\"checkbox\" ><label for=\"sk-estimator-id-1\" class=\"sk-toggleable__label sk-toggleable__label-arrow\">Pipeline</label><div class=\"sk-toggleable__content\"><pre>Pipeline(steps=[(&#x27;vectorizer&#x27;, CountVectorizer(ngram_range=(1, 2))),\n",
       "                (&#x27;tfidf&#x27;, TfidfTransformer()),\n",
       "                (&#x27;clf&#x27;,\n",
       "                 OneVsRestClassifier(estimator=LinearSVC(class_weight=&#x27;balanced&#x27;)))])</pre></div></div></div><div class=\"sk-serial\"><div class=\"sk-item\"><div class=\"sk-estimator sk-toggleable\"><input class=\"sk-toggleable__control sk-hidden--visually\" id=\"sk-estimator-id-2\" type=\"checkbox\" ><label for=\"sk-estimator-id-2\" class=\"sk-toggleable__label sk-toggleable__label-arrow\">CountVectorizer</label><div class=\"sk-toggleable__content\"><pre>CountVectorizer(ngram_range=(1, 2))</pre></div></div></div><div class=\"sk-item\"><div class=\"sk-estimator sk-toggleable\"><input class=\"sk-toggleable__control sk-hidden--visually\" id=\"sk-estimator-id-3\" type=\"checkbox\" ><label for=\"sk-estimator-id-3\" class=\"sk-toggleable__label sk-toggleable__label-arrow\">TfidfTransformer</label><div class=\"sk-toggleable__content\"><pre>TfidfTransformer()</pre></div></div></div><div class=\"sk-item sk-dashed-wrapped\"><div class=\"sk-label-container\"><div class=\"sk-label sk-toggleable\"><input class=\"sk-toggleable__control sk-hidden--visually\" id=\"sk-estimator-id-4\" type=\"checkbox\" ><label for=\"sk-estimator-id-4\" class=\"sk-toggleable__label sk-toggleable__label-arrow\">clf: OneVsRestClassifier</label><div class=\"sk-toggleable__content\"><pre>OneVsRestClassifier(estimator=LinearSVC(class_weight=&#x27;balanced&#x27;))</pre></div></div></div><div class=\"sk-parallel\"><div class=\"sk-parallel-item\"><div class=\"sk-item\"><div class=\"sk-label-container\"><div class=\"sk-label sk-toggleable\"><input class=\"sk-toggleable__control sk-hidden--visually\" id=\"sk-estimator-id-5\" type=\"checkbox\" ><label for=\"sk-estimator-id-5\" class=\"sk-toggleable__label sk-toggleable__label-arrow\">estimator: LinearSVC</label><div class=\"sk-toggleable__content\"><pre>LinearSVC(class_weight=&#x27;balanced&#x27;)</pre></div></div></div><div class=\"sk-serial\"><div class=\"sk-item\"><div class=\"sk-estimator sk-toggleable\"><input class=\"sk-toggleable__control sk-hidden--visually\" id=\"sk-estimator-id-6\" type=\"checkbox\" ><label for=\"sk-estimator-id-6\" class=\"sk-toggleable__label sk-toggleable__label-arrow\">LinearSVC</label><div class=\"sk-toggleable__content\"><pre>LinearSVC(class_weight=&#x27;balanced&#x27;)</pre></div></div></div></div></div></div></div></div></div></div></div></div>"
      ],
      "text/plain": [
       "Pipeline(steps=[('vectorizer', CountVectorizer(ngram_range=(1, 2))),\n",
       "                ('tfidf', TfidfTransformer()),\n",
       "                ('clf',\n",
       "                 OneVsRestClassifier(estimator=LinearSVC(class_weight='balanced')))])"
      ]
     },
     "execution_count": 98,
     "metadata": {},
     "output_type": "execute_result"
    }
   ],
   "source": [
    "#fit model with training data\n",
    "model.fit(X_train, y_train)"
   ]
  },
  {
   "cell_type": "code",
   "execution_count": 99,
   "id": "b788619e",
   "metadata": {},
   "outputs": [],
   "source": [
    "#evaluation on test data\n",
    "pred = model.predict(X_test)"
   ]
  },
  {
   "cell_type": "code",
   "execution_count": 100,
   "id": "13d8e5b6",
   "metadata": {},
   "outputs": [
    {
     "data": {
      "text/plain": [
       "array(['Crop and animal production, hunting and related service activities',\n",
       "       'Education', 'Land transport and transport via pipelines',\n",
       "       'Manufacture of food products',\n",
       "       'Manufacture of other non-metallic mineral products',\n",
       "       'Manufacture of textiles', 'Public administration and defence',\n",
       "       'Retail trade, except of motor vehicles and motorcycles',\n",
       "       'Specialized construction activities',\n",
       "       'Wholesale trade, except of motor vehicles and motorcycles'],\n",
       "      dtype='<U66')"
      ]
     },
     "execution_count": 100,
     "metadata": {},
     "output_type": "execute_result"
    }
   ],
   "source": [
    "model.classes_"
   ]
  },
  {
   "cell_type": "code",
   "execution_count": 101,
   "id": "1fdc9a89",
   "metadata": {},
   "outputs": [
    {
     "data": {
      "text/plain": [
       "array([[2210,    0,    0,    0,    0,    0,    0,    0,    0,    0],\n",
       "       [   0, 1475,    0,    0,    0,    0,    0,    0,    0,    0],\n",
       "       [   0,    0,  989,    0,    0,    0,    0,    0,    0,    0],\n",
       "       [   0,    0,    0, 1961,    0,    0,    0,    0,    0,    0],\n",
       "       [   0,    0,    0,    0,  934,    0,    0,    0,    0,    0],\n",
       "       [   0,    0,    0,    0,    0, 1064,    0,    0,    0,    0],\n",
       "       [   0,    0,    0,    0,    0,    0, 1093,    0,    0,    0],\n",
       "       [   0,    0,    0,    0,    0,    0,    0, 3408,    0,    0],\n",
       "       [   0,    0,    0,    0,    0,    0,    0,    0, 1109,    0],\n",
       "       [   0,    0,    0,    0,    0,    0,    0,    0,    0, 1728]],\n",
       "      dtype=int64)"
      ]
     },
     "execution_count": 101,
     "metadata": {},
     "output_type": "execute_result"
    }
   ],
   "source": [
    "from sklearn.metrics import confusion_matrix, accuracy_score\n",
    "confusion_matrix(pred, y_test)"
   ]
  },
  {
   "cell_type": "code",
   "execution_count": 102,
   "id": "3819d3c0",
   "metadata": {},
   "outputs": [
    {
     "data": {
      "text/plain": [
       "1.0"
      ]
     },
     "execution_count": 102,
     "metadata": {},
     "output_type": "execute_result"
    }
   ],
   "source": [
    "accuracy_score(y_test, pred)"
   ]
  },
  {
   "cell_type": "markdown",
   "id": "fafc22f8",
   "metadata": {},
   "source": [
    "# Using k-fold cross-validation"
   ]
  },
  {
   "cell_type": "code",
   "execution_count": 103,
   "id": "6c35bb28",
   "metadata": {},
   "outputs": [],
   "source": [
    "from sklearn.model_selection import cross_val_score"
   ]
  },
  {
   "cell_type": "code",
   "execution_count": 174,
   "id": "2a113ccf",
   "metadata": {},
   "outputs": [
    {
     "name": "stdout",
     "output_type": "stream",
     "text": [
      "{'construction buildings': 1353, 'activities households employers domestic personnel': 1218, 'manufacture furniture': 1146, 'water collection treatment supply': 1104, 'veterinary activities': 1029}\n"
     ]
    }
   ],
   "source": [
    "import re\n",
    "\n",
    "# Define a function to clean and preprocess the category names\n",
    "def clean_category_name(category):\n",
    "    # Convert to lowercase\n",
    "    category = category.lower()\n",
    "    # Remove any non-alphanumeric characters except spaces\n",
    "    category = re.sub(r'[^a-zA-Z\\s]', '', category)\n",
    "    # Remove extra spaces\n",
    "    category = category.strip()\n",
    "    # Remove common words like 'of'\n",
    "    stop_words = set(stopwords.words('english'))\n",
    "    category = ' '.join([word for word in category.split() if word not in stop_words])\n",
    "    return category\n",
    "\n",
    "# Example usage:\n",
    "categories = {\n",
    "    'Construction of buildings': 1353,\n",
    "    'Activities of households as employers of domestic personnel': 1218,\n",
    "    'Manufacture of furniture': 1146,\n",
    "    'Water collection, treatment and supply': 1104,\n",
    "    'Veterinary activities': 1029\n",
    "}\n",
    "\n",
    "# Clean and preprocess category names\n",
    "cleaned_categories = {clean_category_name(category): count for category, count in categories.items()}\n",
    "\n",
    "print(cleaned_categories)\n"
   ]
  },
  {
   "cell_type": "code",
   "execution_count": 176,
   "id": "052ea99a",
   "metadata": {},
   "outputs": [],
   "source": [
    "# 1. Split Data into Train and Test Sets (already done)\n",
    "# X_train, X_test, y_train, y_test = train_test_split(X, y, test_size=0.3, random_state=5)\n",
    "\n",
    "# 2. Define the Model (using the existing pipeline)\n",
    "model = Pipeline([\n",
    "    ('vectorizer', CountVectorizer(ngram_range=(1, 2))),\n",
    "    ('tfidf', TfidfTransformer(use_idf=True)),\n",
    "    ('clf', OneVsRestClassifier(LinearSVC(class_weight=\"balanced\")))\n",
    "])"
   ]
  },
  {
   "cell_type": "code",
   "execution_count": 177,
   "id": "02ad5aa6",
   "metadata": {},
   "outputs": [
    {
     "name": "stderr",
     "output_type": "stream",
     "text": [
      "C:\\Datascience\\Lib\\site-packages\\sklearn\\svm\\_classes.py:32: FutureWarning: The default value of `dual` will change from `True` to `'auto'` in 1.5. Set the value of `dual` explicitly to suppress the warning.\n",
      "  warnings.warn(\n",
      "C:\\Datascience\\Lib\\site-packages\\sklearn\\svm\\_classes.py:32: FutureWarning: The default value of `dual` will change from `True` to `'auto'` in 1.5. Set the value of `dual` explicitly to suppress the warning.\n",
      "  warnings.warn(\n",
      "C:\\Datascience\\Lib\\site-packages\\sklearn\\svm\\_classes.py:32: FutureWarning: The default value of `dual` will change from `True` to `'auto'` in 1.5. Set the value of `dual` explicitly to suppress the warning.\n",
      "  warnings.warn(\n",
      "C:\\Datascience\\Lib\\site-packages\\sklearn\\svm\\_classes.py:32: FutureWarning: The default value of `dual` will change from `True` to `'auto'` in 1.5. Set the value of `dual` explicitly to suppress the warning.\n",
      "  warnings.warn(\n",
      "C:\\Datascience\\Lib\\site-packages\\sklearn\\svm\\_classes.py:32: FutureWarning: The default value of `dual` will change from `True` to `'auto'` in 1.5. Set the value of `dual` explicitly to suppress the warning.\n",
      "  warnings.warn(\n",
      "C:\\Datascience\\Lib\\site-packages\\sklearn\\svm\\_classes.py:32: FutureWarning: The default value of `dual` will change from `True` to `'auto'` in 1.5. Set the value of `dual` explicitly to suppress the warning.\n",
      "  warnings.warn(\n",
      "C:\\Datascience\\Lib\\site-packages\\sklearn\\svm\\_classes.py:32: FutureWarning: The default value of `dual` will change from `True` to `'auto'` in 1.5. Set the value of `dual` explicitly to suppress the warning.\n",
      "  warnings.warn(\n",
      "C:\\Datascience\\Lib\\site-packages\\sklearn\\svm\\_classes.py:32: FutureWarning: The default value of `dual` will change from `True` to `'auto'` in 1.5. Set the value of `dual` explicitly to suppress the warning.\n",
      "  warnings.warn(\n",
      "C:\\Datascience\\Lib\\site-packages\\sklearn\\svm\\_classes.py:32: FutureWarning: The default value of `dual` will change from `True` to `'auto'` in 1.5. Set the value of `dual` explicitly to suppress the warning.\n",
      "  warnings.warn(\n",
      "C:\\Datascience\\Lib\\site-packages\\sklearn\\svm\\_classes.py:32: FutureWarning: The default value of `dual` will change from `True` to `'auto'` in 1.5. Set the value of `dual` explicitly to suppress the warning.\n",
      "  warnings.warn(\n",
      "C:\\Datascience\\Lib\\site-packages\\sklearn\\svm\\_classes.py:32: FutureWarning: The default value of `dual` will change from `True` to `'auto'` in 1.5. Set the value of `dual` explicitly to suppress the warning.\n",
      "  warnings.warn(\n",
      "C:\\Datascience\\Lib\\site-packages\\sklearn\\svm\\_classes.py:32: FutureWarning: The default value of `dual` will change from `True` to `'auto'` in 1.5. Set the value of `dual` explicitly to suppress the warning.\n",
      "  warnings.warn(\n",
      "C:\\Datascience\\Lib\\site-packages\\sklearn\\svm\\_classes.py:32: FutureWarning: The default value of `dual` will change from `True` to `'auto'` in 1.5. Set the value of `dual` explicitly to suppress the warning.\n",
      "  warnings.warn(\n",
      "C:\\Datascience\\Lib\\site-packages\\sklearn\\svm\\_classes.py:32: FutureWarning: The default value of `dual` will change from `True` to `'auto'` in 1.5. Set the value of `dual` explicitly to suppress the warning.\n",
      "  warnings.warn(\n",
      "C:\\Datascience\\Lib\\site-packages\\sklearn\\svm\\_classes.py:32: FutureWarning: The default value of `dual` will change from `True` to `'auto'` in 1.5. Set the value of `dual` explicitly to suppress the warning.\n",
      "  warnings.warn(\n",
      "C:\\Datascience\\Lib\\site-packages\\sklearn\\svm\\_classes.py:32: FutureWarning: The default value of `dual` will change from `True` to `'auto'` in 1.5. Set the value of `dual` explicitly to suppress the warning.\n",
      "  warnings.warn(\n",
      "C:\\Datascience\\Lib\\site-packages\\sklearn\\svm\\_classes.py:32: FutureWarning: The default value of `dual` will change from `True` to `'auto'` in 1.5. Set the value of `dual` explicitly to suppress the warning.\n",
      "  warnings.warn(\n",
      "C:\\Datascience\\Lib\\site-packages\\sklearn\\svm\\_classes.py:32: FutureWarning: The default value of `dual` will change from `True` to `'auto'` in 1.5. Set the value of `dual` explicitly to suppress the warning.\n",
      "  warnings.warn(\n",
      "C:\\Datascience\\Lib\\site-packages\\sklearn\\svm\\_classes.py:32: FutureWarning: The default value of `dual` will change from `True` to `'auto'` in 1.5. Set the value of `dual` explicitly to suppress the warning.\n",
      "  warnings.warn(\n",
      "C:\\Datascience\\Lib\\site-packages\\sklearn\\svm\\_classes.py:32: FutureWarning: The default value of `dual` will change from `True` to `'auto'` in 1.5. Set the value of `dual` explicitly to suppress the warning.\n",
      "  warnings.warn(\n",
      "C:\\Datascience\\Lib\\site-packages\\sklearn\\svm\\_classes.py:32: FutureWarning: The default value of `dual` will change from `True` to `'auto'` in 1.5. Set the value of `dual` explicitly to suppress the warning.\n",
      "  warnings.warn(\n",
      "C:\\Datascience\\Lib\\site-packages\\sklearn\\svm\\_classes.py:32: FutureWarning: The default value of `dual` will change from `True` to `'auto'` in 1.5. Set the value of `dual` explicitly to suppress the warning.\n",
      "  warnings.warn(\n",
      "C:\\Datascience\\Lib\\site-packages\\sklearn\\svm\\_classes.py:32: FutureWarning: The default value of `dual` will change from `True` to `'auto'` in 1.5. Set the value of `dual` explicitly to suppress the warning.\n",
      "  warnings.warn(\n",
      "C:\\Datascience\\Lib\\site-packages\\sklearn\\svm\\_classes.py:32: FutureWarning: The default value of `dual` will change from `True` to `'auto'` in 1.5. Set the value of `dual` explicitly to suppress the warning.\n",
      "  warnings.warn(\n",
      "C:\\Datascience\\Lib\\site-packages\\sklearn\\svm\\_classes.py:32: FutureWarning: The default value of `dual` will change from `True` to `'auto'` in 1.5. Set the value of `dual` explicitly to suppress the warning.\n",
      "  warnings.warn(\n",
      "C:\\Datascience\\Lib\\site-packages\\sklearn\\svm\\_classes.py:32: FutureWarning: The default value of `dual` will change from `True` to `'auto'` in 1.5. Set the value of `dual` explicitly to suppress the warning.\n",
      "  warnings.warn(\n",
      "C:\\Datascience\\Lib\\site-packages\\sklearn\\svm\\_classes.py:32: FutureWarning: The default value of `dual` will change from `True` to `'auto'` in 1.5. Set the value of `dual` explicitly to suppress the warning.\n",
      "  warnings.warn(\n",
      "C:\\Datascience\\Lib\\site-packages\\sklearn\\svm\\_classes.py:32: FutureWarning: The default value of `dual` will change from `True` to `'auto'` in 1.5. Set the value of `dual` explicitly to suppress the warning.\n",
      "  warnings.warn(\n",
      "C:\\Datascience\\Lib\\site-packages\\sklearn\\svm\\_classes.py:32: FutureWarning: The default value of `dual` will change from `True` to `'auto'` in 1.5. Set the value of `dual` explicitly to suppress the warning.\n",
      "  warnings.warn(\n",
      "C:\\Datascience\\Lib\\site-packages\\sklearn\\svm\\_classes.py:32: FutureWarning: The default value of `dual` will change from `True` to `'auto'` in 1.5. Set the value of `dual` explicitly to suppress the warning.\n",
      "  warnings.warn(\n",
      "C:\\Datascience\\Lib\\site-packages\\sklearn\\svm\\_classes.py:32: FutureWarning: The default value of `dual` will change from `True` to `'auto'` in 1.5. Set the value of `dual` explicitly to suppress the warning.\n",
      "  warnings.warn(\n",
      "C:\\Datascience\\Lib\\site-packages\\sklearn\\svm\\_classes.py:32: FutureWarning: The default value of `dual` will change from `True` to `'auto'` in 1.5. Set the value of `dual` explicitly to suppress the warning.\n",
      "  warnings.warn(\n",
      "C:\\Datascience\\Lib\\site-packages\\sklearn\\svm\\_classes.py:32: FutureWarning: The default value of `dual` will change from `True` to `'auto'` in 1.5. Set the value of `dual` explicitly to suppress the warning.\n",
      "  warnings.warn(\n",
      "C:\\Datascience\\Lib\\site-packages\\sklearn\\svm\\_classes.py:32: FutureWarning: The default value of `dual` will change from `True` to `'auto'` in 1.5. Set the value of `dual` explicitly to suppress the warning.\n",
      "  warnings.warn(\n",
      "C:\\Datascience\\Lib\\site-packages\\sklearn\\svm\\_classes.py:32: FutureWarning: The default value of `dual` will change from `True` to `'auto'` in 1.5. Set the value of `dual` explicitly to suppress the warning.\n",
      "  warnings.warn(\n",
      "C:\\Datascience\\Lib\\site-packages\\sklearn\\svm\\_classes.py:32: FutureWarning: The default value of `dual` will change from `True` to `'auto'` in 1.5. Set the value of `dual` explicitly to suppress the warning.\n",
      "  warnings.warn(\n",
      "C:\\Datascience\\Lib\\site-packages\\sklearn\\svm\\_classes.py:32: FutureWarning: The default value of `dual` will change from `True` to `'auto'` in 1.5. Set the value of `dual` explicitly to suppress the warning.\n",
      "  warnings.warn(\n",
      "C:\\Datascience\\Lib\\site-packages\\sklearn\\svm\\_classes.py:32: FutureWarning: The default value of `dual` will change from `True` to `'auto'` in 1.5. Set the value of `dual` explicitly to suppress the warning.\n",
      "  warnings.warn(\n",
      "C:\\Datascience\\Lib\\site-packages\\sklearn\\svm\\_classes.py:32: FutureWarning: The default value of `dual` will change from `True` to `'auto'` in 1.5. Set the value of `dual` explicitly to suppress the warning.\n",
      "  warnings.warn(\n",
      "C:\\Datascience\\Lib\\site-packages\\sklearn\\svm\\_classes.py:32: FutureWarning: The default value of `dual` will change from `True` to `'auto'` in 1.5. Set the value of `dual` explicitly to suppress the warning.\n",
      "  warnings.warn(\n",
      "C:\\Datascience\\Lib\\site-packages\\sklearn\\svm\\_classes.py:32: FutureWarning: The default value of `dual` will change from `True` to `'auto'` in 1.5. Set the value of `dual` explicitly to suppress the warning.\n",
      "  warnings.warn(\n",
      "C:\\Datascience\\Lib\\site-packages\\sklearn\\svm\\_classes.py:32: FutureWarning: The default value of `dual` will change from `True` to `'auto'` in 1.5. Set the value of `dual` explicitly to suppress the warning.\n",
      "  warnings.warn(\n",
      "C:\\Datascience\\Lib\\site-packages\\sklearn\\svm\\_classes.py:32: FutureWarning: The default value of `dual` will change from `True` to `'auto'` in 1.5. Set the value of `dual` explicitly to suppress the warning.\n",
      "  warnings.warn(\n",
      "C:\\Datascience\\Lib\\site-packages\\sklearn\\svm\\_classes.py:32: FutureWarning: The default value of `dual` will change from `True` to `'auto'` in 1.5. Set the value of `dual` explicitly to suppress the warning.\n",
      "  warnings.warn(\n",
      "C:\\Datascience\\Lib\\site-packages\\sklearn\\svm\\_classes.py:32: FutureWarning: The default value of `dual` will change from `True` to `'auto'` in 1.5. Set the value of `dual` explicitly to suppress the warning.\n",
      "  warnings.warn(\n",
      "C:\\Datascience\\Lib\\site-packages\\sklearn\\svm\\_classes.py:32: FutureWarning: The default value of `dual` will change from `True` to `'auto'` in 1.5. Set the value of `dual` explicitly to suppress the warning.\n",
      "  warnings.warn(\n",
      "C:\\Datascience\\Lib\\site-packages\\sklearn\\svm\\_classes.py:32: FutureWarning: The default value of `dual` will change from `True` to `'auto'` in 1.5. Set the value of `dual` explicitly to suppress the warning.\n",
      "  warnings.warn(\n",
      "C:\\Datascience\\Lib\\site-packages\\sklearn\\svm\\_classes.py:32: FutureWarning: The default value of `dual` will change from `True` to `'auto'` in 1.5. Set the value of `dual` explicitly to suppress the warning.\n",
      "  warnings.warn(\n",
      "C:\\Datascience\\Lib\\site-packages\\sklearn\\svm\\_classes.py:32: FutureWarning: The default value of `dual` will change from `True` to `'auto'` in 1.5. Set the value of `dual` explicitly to suppress the warning.\n",
      "  warnings.warn(\n",
      "C:\\Datascience\\Lib\\site-packages\\sklearn\\svm\\_classes.py:32: FutureWarning: The default value of `dual` will change from `True` to `'auto'` in 1.5. Set the value of `dual` explicitly to suppress the warning.\n",
      "  warnings.warn(\n"
     ]
    }
   ],
   "source": [
    "# 3. Cross-Validation\n",
    "# Perform 5-fold cross-validation\n",
    "cv_scores = cross_val_score(model, X, y, cv=5, scoring='accuracy')"
   ]
  },
  {
   "cell_type": "code",
   "execution_count": 178,
   "id": "2adc579d",
   "metadata": {},
   "outputs": [],
   "source": [
    "# 4. Average Accuracy\n",
    "average_accuracy = cv_scores.mean()"
   ]
  },
  {
   "cell_type": "code",
   "execution_count": 179,
   "id": "e9ffc853",
   "metadata": {},
   "outputs": [
    {
     "name": "stdout",
     "output_type": "stream",
     "text": [
      "Average Accuracy: 1.0\n"
     ]
    }
   ],
   "source": [
    "# Print the average accuracy\n",
    "print(\"Average Accuracy:\", average_accuracy)"
   ]
  },
  {
   "cell_type": "markdown",
   "id": "fb1a360c",
   "metadata": {},
   "source": [
    "# Checking using Random Forest Classifier"
   ]
  },
  {
   "cell_type": "code",
   "execution_count": 180,
   "id": "dc2824ef",
   "metadata": {},
   "outputs": [
    {
     "name": "stdout",
     "output_type": "stream",
     "text": [
      "Accuracy with Random Forest Classifier after adjusting for class imbalance: 1.0\n"
     ]
    }
   ],
   "source": [
    "from sklearn.ensemble import RandomForestClassifier\n",
    "\n",
    "import re\n",
    "\n",
    "# Define a function to clean and preprocess the category names\n",
    "def clean_category_name(category):\n",
    "    # Convert to lowercase\n",
    "    category = category.lower()\n",
    "    # Remove any non-alphanumeric characters except spaces\n",
    "    category = re.sub(r'[^a-zA-Z\\s]', '', category)\n",
    "    # Remove extra spaces\n",
    "    category = category.strip()\n",
    "    # Remove common words like 'of'\n",
    "    stop_words = set(stopwords.words('english'))\n",
    "    category = ' '.join([word for word in category.split() if word not in stop_words])\n",
    "    return category\n",
    "\n",
    "# Example usage:\n",
    "categories = {\n",
    "    'Construction of buildings': 1353,\n",
    "    'Activities of households as employers of domestic personnel': 1218,\n",
    "    'Manufacture of furniture': 1146,\n",
    "    'Water collection, treatment and supply': 1104,\n",
    "    'Veterinary activities': 1029\n",
    "}\n",
    "\n",
    "# Clean and preprocess category names\n",
    "cleaned_categories = {clean_category_name(category): count for category, count in categories.items()}\n",
    "\n",
    "# Define class weights based on the class distribution\n",
    "class_weights = {'Manufacture of furniture': 1,\n",
    "                 'Water collection, treatment and supply': 1,\n",
    "                 'Construction of buildings': 1,\n",
    "                 'Veterinary activities': 1,\n",
    "                 'Primary education': 1,\n",
    "                 'Other human health activities': 1,\n",
    "                 'Activities of households as employers of domestic personnel': 1,\n",
    "                 'Blank': 0.5,  # Adjust the weight for the \"Blank\" class\n",
    "                 'Incomplete description/ Wrongly Classifed': 0.5,  # Adjust the weight for the \"Incomplete description/Wrongly Classified\" class\n",
    "                 'Manufacture of tobacco products': 1}\n",
    "\n",
    "# Define the pipeline with RandomForestClassifier\n",
    "model_rf = Pipeline([\n",
    "    ('vectorizer', CountVectorizer(ngram_range=(1, 2))),\n",
    "    ('tfidf', TfidfTransformer(use_idf=True)),\n",
    "    ('clf', RandomForestClassifier(n_estimators=100, random_state=42, class_weight=class_weights))\n",
    "])\n",
    "\n",
    "# Fit the model with training data\n",
    "model_rf.fit(X_train, y_train)\n",
    "\n",
    "# Evaluate on test data\n",
    "pred_rf = model_rf.predict(X_test)\n",
    "\n",
    "# Calculate accuracy\n",
    "accuracy_rf = accuracy_score(y_test, pred_rf)\n",
    "print(\"Accuracy with Random Forest Classifier after adjusting for class imbalance:\", accuracy_rf)\n"
   ]
  },
  {
   "cell_type": "code",
   "execution_count": null,
   "id": "81ca040f",
   "metadata": {},
   "outputs": [],
   "source": []
  }
 ],
 "metadata": {
  "kernelspec": {
   "display_name": "Python 3 (ipykernel)",
   "language": "python",
   "name": "python3"
  },
  "language_info": {
   "codemirror_mode": {
    "name": "ipython",
    "version": 3
   },
   "file_extension": ".py",
   "mimetype": "text/x-python",
   "name": "python",
   "nbconvert_exporter": "python",
   "pygments_lexer": "ipython3",
   "version": "3.11.4"
  }
 },
 "nbformat": 4,
 "nbformat_minor": 5
}
